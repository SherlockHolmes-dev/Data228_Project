{
  "cells": [
    {
      "cell_type": "code",
      "execution_count": 1,
      "metadata": {
        "colab": {
          "base_uri": "https://localhost:8080/"
        },
        "id": "MK6CZeX9vMV-",
        "outputId": "f046ccf3-8e53-4475-9b76-b29e2b0234e4"
      },
      "outputs": [
        {
          "output_type": "stream",
          "name": "stdout",
          "text": [
            "Requirement already satisfied: pyspark in /usr/local/lib/python3.11/dist-packages (3.5.1)\n",
            "Requirement already satisfied: py4j==0.10.9.7 in /usr/local/lib/python3.11/dist-packages (from pyspark) (0.10.9.7)\n",
            "Requirement already satisfied: python-dotenv in /usr/local/lib/python3.11/dist-packages (1.1.0)\n"
          ]
        }
      ],
      "source": [
        "!pip install pyspark\n",
        "!pip install python-dotenv"
      ]
    },
    {
      "cell_type": "code",
      "execution_count": 2,
      "metadata": {
        "id": "eqm2htZ5vSe8"
      },
      "outputs": [],
      "source": [
        "from pyspark.sql import SparkSession\n",
        "from dotenv import load_dotenv\n",
        "import os"
      ]
    },
    {
      "cell_type": "code",
      "execution_count": 3,
      "metadata": {
        "id": "mHFaNuAOvYtt"
      },
      "outputs": [],
      "source": [
        "# Step 1: Initialize variables\n",
        "from google.colab import userdata\n",
        "\n",
        "load_dotenv(\"azure_connection.env\")\n",
        "\n",
        "storage_account_name = userdata.get('AZURE_ACCOUNT_NAME')\n",
        "storage_account_key = userdata.get('AZURE_STORAGE_KEY')\n",
        "storage_container_name = \"kaggle-datasets\"\n",
        "parquet_blob_name = \"github-dataset-full.parquet\""
      ]
    },
    {
      "cell_type": "code",
      "execution_count": 4,
      "metadata": {
        "id": "GJB9Ob4nvrDF"
      },
      "outputs": [],
      "source": [
        "# Step 2: Creating Spark session\n",
        "spark = SparkSession.builder \\\n",
        "    .appName(\"Read Parquet from Azure Blob Storage\") \\\n",
        "    .config(f\"spark.hadoop.fs.azure.account.key.{storage_account_name}.blob.core.windows.net\", storage_account_key) \\\n",
        "    .config(\"spark.jars.packages\", \"org.apache.hadoop:hadoop-azure:3.3.2,com.microsoft.azure:azure-storage:8.6.6\") \\\n",
        "    .getOrCreate()\n",
        "\n",
        "# Remove garbage error texts\n",
        "spark.sparkContext.setLogLevel(\"ERROR\")"
      ]
    },
    {
      "cell_type": "code",
      "execution_count": 5,
      "metadata": {
        "id": "iJc1gH3DwTEb"
      },
      "outputs": [],
      "source": [
        "# Step 3: (Optional) Set Hadoop configurations if not already set during builder\n",
        "spark.conf.set(\n",
        "    f\"fs.azure.account.key.{storage_account_name}.blob.core.windows.net\",\n",
        "    storage_account_key\n",
        ")"
      ]
    },
    {
      "cell_type": "code",
      "execution_count": 6,
      "metadata": {
        "colab": {
          "base_uri": "https://localhost:8080/"
        },
        "id": "rjoUdoZTE-su",
        "outputId": "e681e47a-555e-4b03-802c-c56226ac0105"
      },
      "outputs": [
        {
          "output_type": "stream",
          "name": "stdout",
          "text": [
            "+----+----------------+-------+----------+-------------------+-----+---------+---------+-------+--------+-------------+--------+----------------------+-----------+------------+------------+----+-------------------+\n",
            "|bio |blog            |commits|company   |created_at         |email|followers|following|hirable|id      |is_suspicious|location|login                 |name       |public_gists|public_repos|type|updated_at         |\n",
            "+----+----------------+-------+----------+-------------------+-----+---------+---------+-------+--------+-------------+--------+----------------------+-----------+------------+------------+----+-------------------+\n",
            "|NULL|                |NULL   |NULL      |2015-09-21 02:52:29|NULL |0        |0        |NULL   |14413602|true         |NULL    |llciq992              |NULL       |0           |0           |User|2016-02-28 18:26:34|\n",
            "|NULL|                |0      |NULL      |2014-10-05 17:46:27|NULL |0        |0        |NULL   |9025223 |false        |NULL    |cymssss45             |NULL       |0           |0           |User|2018-01-12 04:46:57|\n",
            "|NULL|                |NULL   |NULL      |2016-03-04 06:29:01|NULL |0        |0        |NULL   |17626302|true         |NULL    |borders145704414125821|NULL       |0           |0           |User|2016-03-04 06:29:02|\n",
            "|NULL|                |0      |NULL      |2016-01-24 14:07:38|NULL |0        |0        |NULL   |16860856|false        |NULL    |chiaotzu              |NULL       |0           |1           |User|2016-01-24 14:07:38|\n",
            "|NULL|                |9      |NULL      |2015-11-12 05:07:45|NULL |0        |0        |NULL   |15806633|false        |NULL    |gabriel793            |NULL       |1           |13          |User|2017-01-21 07:09:13|\n",
            "|NULL|                |1      |NULL      |2011-10-25 23:45:52|NULL |0        |0        |NULL   |1151203 |false        |NULL    |Biagio                |NULL       |0           |2           |User|2017-10-12 07:30:45|\n",
            "|CTO |http://canya.com|59     |CanYa Inc.|2009-10-18 15:47:51|NULL |33       |146      |true   |141210  |false        |Málaga  |jlsuarezs             |Juan Suarez|69          |473         |User|2018-05-02 07:25:38|\n",
            "|NULL|                |0      |NULL      |2016-01-13 22:30:20|NULL |0        |0        |NULL   |16686692|false        |NULL    |szp9177               |NULL       |0           |1           |User|2016-12-07 14:54:37|\n",
            "|NULL|                |NULL   |NULL      |2016-05-01 23:34:22|NULL |0        |0        |NULL   |18952046|true         |NULL    |ixoxek                |NULL       |0           |1           |User|2016-05-02 07:30:43|\n",
            "|NULL|                |0      |NULL      |2014-03-13 01:10:21|NULL |0        |0        |NULL   |6932921 |false        |NULL    |joellerosen           |NULL       |0           |0           |User|2016-02-27 22:40:43|\n",
            "+----+----------------+-------+----------+-------------------+-----+---------+---------+-------+--------+-------------+--------+----------------------+-----------+------------+------------+----+-------------------+\n",
            "only showing top 10 rows\n",
            "\n"
          ]
        }
      ],
      "source": [
        "# Step 4: Read parquet file spliited based on non-nesting\n",
        "non_list_df = spark.read.parquet(\n",
        "    \"wasbs://kaggle-datasets@matthewleffler1.blob.core.windows.net/clean_data/non_list_data\"\n",
        ")\n",
        "\n",
        "# Ensure data was saved\n",
        "non_list_df.show(10, truncate=False)"
      ]
    },
    {
      "cell_type": "code",
      "execution_count": 7,
      "metadata": {
        "id": "PKT8CQQJBmk3"
      },
      "outputs": [],
      "source": [
        "# Step 5: Read parquet file spliited based on nesting\n",
        "\n",
        "# Read data to ensure data was properly saved\n",
        "repo_list_df = spark.read.parquet(\n",
        "    \"wasbs://kaggle-datasets@matthewleffler1.blob.core.windows.net/clean_data/repo_list_data\"\n",
        ")\n",
        "\n",
        "# Read data to ensure data was properly saved\n",
        "following_list_df = spark.read.parquet(\n",
        "    \"wasbs://kaggle-datasets@matthewleffler1.blob.core.windows.net/clean_data/following_list_data\"\n",
        ")\n",
        "\n",
        "# Read data to ensure data was properly saved\n",
        "follower_list_df = spark.read.parquet(\n",
        "    \"wasbs://kaggle-datasets@matthewleffler1.blob.core.windows.net/clean_data/follower_list_data\"\n",
        ")\n",
        "\n",
        "# Read data to ensure data was properly saved\n",
        "commit_list_df = spark.read.parquet(\n",
        "    \"wasbs://kaggle-datasets@matthewleffler1.blob.core.windows.net/clean_data/commit_list_data\"\n",
        ")"
      ]
    },
    {
      "cell_type": "code",
      "execution_count": 10,
      "metadata": {
        "id": "p0wh5v5mBxFn"
      },
      "outputs": [],
      "source": [
        "# Step 6: Join and aggregate logic to compute influence score\n",
        "\n",
        "from pyspark.sql import functions as F\n",
        "\n",
        "# 1. Compute follower counts per user\n",
        "followers_agg = (\n",
        "    follower_list_df\n",
        "    .groupBy(\"user_id\", \"user_login\")\n",
        "    .agg(F.count(\"*\").alias(\"follower_count\"))\n",
        ")\n",
        "\n",
        "# 2. Compute total stargazers per user\n",
        "stars_agg = (\n",
        "    repo_list_df\n",
        "    .groupBy(\"user_id\", \"user_login\")\n",
        "    .agg(F.sum(\"repo_stargazers_count\").alias(\"total_stars\"))\n",
        ")\n",
        "\n",
        "# 3. Compute total commits per user\n",
        "commits_agg = (\n",
        "    commit_list_df\n",
        "    .groupBy(\"user_id\", \"user_login\")\n",
        "    .agg(F.count(\"*\").alias(\"total_commits\"))\n",
        ")\n",
        "\n",
        "# 4. Compute total forks per user\n",
        "forks_agg = (\n",
        "    repo_list_df\n",
        "    .groupBy(\"user_id\", \"user_login\")\n",
        "    .agg(F.sum(\"repo_forks_count\").alias(\"total_forks\"))\n",
        ")\n",
        "\n",
        "# 5. Join all aggregates together\n",
        "influence_df = (\n",
        "    followers_agg\n",
        "    .join(stars_agg,   on=[\"user_id\",\"user_login\"], how=\"full_outer\")\n",
        "    .join(commits_agg, on=[\"user_id\",\"user_login\"], how=\"full_outer\")\n",
        "    .join(forks_agg,   on=[\"user_id\",\"user_login\"], how=\"full_outer\")\n",
        "    .na.fill(0, [\"follower_count\", \"total_stars\", \"total_commits\", \"total_forks\"])\n",
        ")\n"
      ]
    },
    {
      "cell_type": "code",
      "execution_count": 11,
      "metadata": {
        "id": "hkKtpLQkEkOW"
      },
      "outputs": [],
      "source": [
        "# Step 7: Compute a weighted influence score\n",
        "# followers: 40%, stars: 25%, forks: 20%, commits: 15%\n",
        "\n",
        "influence_df = influence_df.withColumn(\n",
        "    \"influence_score\",\n",
        "    0.4   * F.col(\"follower_count\") +\n",
        "    0.25  * F.col(\"total_stars\")    +\n",
        "    0.20  * F.col(\"total_forks\")    +\n",
        "    0.15  * F.col(\"total_commits\")\n",
        ")\n"
      ]
    },
    {
      "cell_type": "code",
      "execution_count": 12,
      "metadata": {
        "colab": {
          "base_uri": "https://localhost:8080/"
        },
        "id": "1w1iv10HEl-7",
        "outputId": "90d39c25-3e05-4c4b-9dbc-b464ae3642da"
      },
      "outputs": [
        {
          "output_type": "stream",
          "name": "stdout",
          "text": [
            "+--------+-----------------+--------------+-----------+-------------+-----------+------------------+\n",
            "|user_id |user_login       |follower_count|total_stars|total_commits|total_forks|influence_score   |\n",
            "+--------+-----------------+--------------+-----------+-------------+-----------+------------------+\n",
            "|6154722 |Microsoft        |0             |415789     |0            |103979     |124743.05         |\n",
            "|6128107 |vuejs            |0             |243181     |0            |41423      |69079.85          |\n",
            "|82592   |square           |2             |205975     |0            |36317      |58757.950000000004|\n",
            "|18461506|Tencent          |0             |149961     |0            |33305      |44151.25          |\n",
            "|3006190 |shadowsocks      |0             |125507     |0            |61991      |43774.95          |\n",
            "|1136800 |h5bp             |3             |110190     |0            |22505      |32049.7           |\n",
            "|10639145|apple            |0             |99580      |1            |14436      |27782.350000000002|\n",
            "|1562726 |d3               |0             |91227      |0            |23043      |27415.35          |\n",
            "|958072  |laravel          |0             |85821      |0            |28099      |27075.05          |\n",
            "|6407041 |ReactiveX        |0             |93824      |0            |14002      |26256.4           |\n",
            "|14985020|zeit             |0             |91082      |0            |7684       |24307.3           |\n",
            "|1503512 |Homebrew         |0             |70755      |0            |32494      |24187.55          |\n",
            "|3171503 |ionic-team       |0             |73707      |0            |27361      |23898.95          |\n",
            "|9141961 |dotnet           |0             |75423      |0            |21115      |23078.75          |\n",
            "|6250754 |ethereum         |0             |72324      |0            |24077      |22896.4           |\n",
            "|1778935 |GoogleChrome     |1             |78611      |0            |15330      |22719.15          |\n",
            "|16943930|facebookresearch |0             |78088      |0            |13029      |22127.8           |\n",
            "|1089146 |atom             |0             |73501      |0            |18587      |22092.65          |\n",
            "|326419  |HubSpot          |0             |75512      |0            |7493       |20376.6           |\n",
            "|107424  |jenkinsci        |0             |42821      |0            |35643      |17833.85          |\n",
            "|624178  |getlantern       |0             |58060      |0            |13720      |17259.0           |\n",
            "|1505683 |FortAwesome      |0             |59332      |0            |10095      |16852.0           |\n",
            "|12101536|ant-design       |0             |55087      |0            |14699      |16711.55          |\n",
            "|10704521|hongyangAndroid  |10583         |37989      |447          |12144      |16226.3           |\n",
            "|6412038 |reactjs          |0             |56094      |0            |10390      |16101.5           |\n",
            "|538264  |uber             |0             |56018      |0            |6174       |15239.3           |\n",
            "|3730757 |coreos           |0             |50482      |0            |13073      |15235.1           |\n",
            "|9637642 |babel            |0             |55358      |0            |6030       |15045.5           |\n",
            "|357098  |linkedin         |1             |51936      |0            |9426       |14869.6           |\n",
            "|12002442|Bilibili         |0             |48772      |0            |10832      |14359.4           |\n",
            "|3299148 |awslabs          |0             |46066      |0            |13761      |14268.7           |\n",
            "|819518  |segmentio        |0             |51459      |0            |5495       |13963.75          |\n",
            "|528860  |bitcoin          |0             |37037      |0            |22250      |13709.25          |\n",
            "|7535935 |spatie           |0             |48724      |0            |6327       |13446.4           |\n",
            "|5430905 |rust-lang        |0             |44883      |0            |9544       |13129.55          |\n",
            "|14957082|openai           |0             |44129      |0            |9945       |13021.25          |\n",
            "|3083652 |jekyll           |0             |42442      |0            |10224      |12655.3           |\n",
            "|5009934 |opencv           |0             |31555      |0            |23103      |12509.35          |\n",
            "|7575099 |realm            |0             |44897      |0            |5310       |12286.25          |\n",
            "|2805331 |requests         |0             |41297      |0            |7648       |11853.85          |\n",
            "|1181541 |AFNetworking     |2             |36918      |0            |11013      |11432.9           |\n",
            "|8296347 |postcss          |0             |42993      |0            |2801       |11308.45          |\n",
            "|527621  |thephpleague     |0             |38950      |0            |6181       |10973.7           |\n",
            "|5432151 |DevMountain      |0             |676        |0            |53122      |10793.400000000001|\n",
            "|365630  |scikit-learn     |1             |29881      |0            |14855      |10441.65          |\n",
            "|1733746 |tastejs          |1             |30438      |0            |14106      |10431.1           |\n",
            "|1714870 |yeoman           |0             |36190      |0            |6794       |10406.3           |\n",
            "|193389  |etsy             |0             |36511      |0            |5458       |10219.35          |\n",
            "|10180421|nwjs             |0             |35182      |0            |4189       |9633.3            |\n",
            "|2565403 |lodash           |0             |35491      |0            |3615       |9595.75           |\n",
            "|6182163 |BVLC             |0             |25239      |0            |15488      |9407.35           |\n",
            "|1396951 |getsentry        |0             |32106      |0            |6409       |9308.3            |\n",
            "|127679  |plataformatec    |0             |32122      |0            |6290       |9288.5            |\n",
            "|7774181 |Alamofire        |0             |31929      |0            |5413       |9064.85           |\n",
            "|4722515 |raywenderlich    |0             |31039      |0            |5867       |8933.15           |\n",
            "|22247014|yarnpkg          |0             |32917      |0            |2450       |8719.25           |\n",
            "|457049  |Flipboard        |0             |32002      |0            |3575       |8715.5            |\n",
            "|6187757 |papers-we-love   |0             |31335      |0            |3022       |8438.15           |\n",
            "|31970254|GoogleChromeLabs |0             |31021      |0            |3243       |8403.85           |\n",
            "|2824157 |auth0            |0             |27453      |0            |7632       |8389.65           |\n",
            "|234268  |puppetlabs       |0             |18520      |0            |18350      |8300.0            |\n",
            "|234324  |cocos2d          |0             |23250      |0            |11549      |8122.3            |\n",
            "|2854298 |Leaflet          |0             |27647      |0            |5873       |8086.35           |\n",
            "|214783  |scottjehl        |2145          |23870      |462          |5077       |7910.2            |\n",
            "|4219865 |nylas            |0             |29618      |0            |2254       |7855.3            |\n",
            "|29385237|gohugoio         |0             |28335      |0            |3796       |7842.95           |\n",
            "|317875  |clojure          |0             |28369      |0            |3536       |7799.45           |\n",
            "|5713248 |influxdata       |0             |26079      |0            |6390       |7797.75           |\n",
            "|11098337|fastlane         |0             |27284      |0            |4259       |7672.8            |\n",
            "|6375567 |hexojs           |0             |26236      |0            |5199       |7598.8            |\n",
            "|15455   |Khan             |0             |27016      |0            |3528       |7459.6            |\n",
            "|5800008 |webtorrent       |0             |27002      |0            |3113       |7373.1            |\n",
            "|60365   |phonegap         |0             |16963      |0            |15066      |7253.950000000001 |\n",
            "|468401  |php-fig          |0             |26375      |0            |3083       |7210.35           |\n",
            "|2010360 |usablica         |0             |26151      |0            |3232       |7184.15           |\n",
            "|423539  |bumptech         |0             |24862      |0            |4824       |7180.3            |\n",
            "|7195757 |grafana          |0             |24287      |0            |5092       |7090.15           |\n",
            "|8077542 |select2          |0             |23250      |0            |5628       |6938.1            |\n",
            "|43635   |harvesthq        |1             |23833      |0            |4663       |6891.25           |\n",
            "|573910  |metafizzy        |0             |23890      |0            |4037       |6779.9            |\n",
            "|2268460 |ecomfe           |0             |21776      |0            |6161       |6676.2            |\n",
            "|317889  |sass             |0             |23505      |0            |3800       |6636.25           |\n",
            "|1340892 |hyperoslo        |0             |24597      |0            |2338       |6616.85           |\n",
            "|7628018 |syncthing        |0             |24133      |0            |2438       |6520.85           |\n",
            "|8401422 |tesseract-ocr    |0             |21770      |0            |5328       |6508.1            |\n",
            "|3880963 |floodsung        |1417          |19609      |482          |4619       |6465.150000000001 |\n",
            "|131060  |Modernizr        |0             |23286      |0            |3184       |6458.3            |\n",
            "|7657900 |hyperledger      |0             |17875      |0            |9920       |6452.75           |\n",
            "|5997976 |plotly           |0             |22148      |0            |4255       |6388.0            |\n",
            "|15129049|jazzband         |0             |21719      |0            |4334       |6296.55           |\n",
            "|24405523|exacity          |0             |20197      |0            |6144       |6278.05           |\n",
            "|8863432 |bcit-ci          |0             |18240      |0            |8514       |6262.8            |\n",
            "|4741861 |googlecreativelab|0             |22444      |0            |3033       |6217.6            |\n",
            "|3734415 |yangyangwithgnu  |2917          |16444      |441          |4180       |6179.95           |\n",
            "|9343010 |rancher          |0             |20006      |0            |5859       |6173.3            |\n",
            "|32607881|parcel-bundler   |0             |23502      |0            |1091       |6093.7            |\n",
            "|168515  |ajaxorg          |1             |19922      |0            |5503       |6081.5            |\n",
            "|1446536 |Kotlin           |0             |21709      |0            |3174       |6062.05           |\n",
            "|7894478 |gin-gonic        |0             |21869      |0            |2716       |6010.45           |\n",
            "|7087632 |android-cn       |0             |19059      |0            |6047       |5974.15           |\n",
            "+--------+-----------------+--------------+-----------+-------------+-----------+------------------+\n",
            "\n"
          ]
        }
      ],
      "source": [
        "# Step 8. Get Top N developers by influence\n",
        "\n",
        "top_developers = (\n",
        "    influence_df\n",
        "    .orderBy(F.col(\"influence_score\").desc())\n",
        "    .limit(100)\n",
        ")\n",
        "\n",
        "top_developers.show(100, truncate=False)"
      ]
    },
    {
      "cell_type": "code",
      "execution_count": 13,
      "metadata": {
        "id": "wFbfJL0vH-qZ"
      },
      "outputs": [],
      "source": [
        "# Step 9: Load data into Parquet files\n",
        "\n",
        "# Create parquet file for Top-100 influencers\n",
        "top_developers \\\n",
        "  .coalesce(1) \\\n",
        "  .write \\\n",
        "  .mode(\"overwrite\") \\\n",
        "  .parquet(\"wasbs://kaggle-datasets@matthewleffler1.blob.core.windows.net/clean_data/Influence_Top\")"
      ]
    },
    {
      "cell_type": "code",
      "execution_count": null,
      "metadata": {
        "id": "gCZSnfj6L11h"
      },
      "outputs": [],
      "source": [
        "# Step 10: Read parquet file with top-100 data and get sample data\n",
        "\n",
        "Influence_Top_df = spark.read.parquet(\n",
        "    \"wasbs://kaggle-datasets@matthewleffler1.blob.core.windows.net/clean_data/Influence_Top\"\n",
        ")\n",
        "\n",
        "# Ensure data was saved\n",
        "Influence_Top_df.show(100, truncate=False)"
      ]
    }
  ],
  "metadata": {
    "colab": {
      "provenance": []
    },
    "kernelspec": {
      "display_name": "Python 3",
      "name": "python3"
    },
    "language_info": {
      "name": "python"
    }
  },
  "nbformat": 4,
  "nbformat_minor": 0
}