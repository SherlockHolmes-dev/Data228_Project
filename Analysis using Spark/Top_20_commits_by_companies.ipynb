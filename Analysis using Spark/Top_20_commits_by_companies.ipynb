{
  "nbformat": 4,
  "nbformat_minor": 0,
  "metadata": {
    "colab": {
      "provenance": []
    },
    "kernelspec": {
      "name": "python3",
      "display_name": "Python 3"
    },
    "language_info": {
      "name": "python"
    }
  },
  "cells": [
    {
      "cell_type": "code",
      "execution_count": null,
      "metadata": {
        "colab": {
          "base_uri": "https://localhost:8080/"
        },
        "id": "ueggL9klWUX-",
        "outputId": "39730fde-37ef-44c8-8026-1516aa31abe2"
      },
      "outputs": [
        {
          "output_type": "stream",
          "name": "stdout",
          "text": [
            "Requirement already satisfied: pyspark in /usr/local/lib/python3.11/dist-packages (3.5.1)\n",
            "Requirement already satisfied: py4j==0.10.9.7 in /usr/local/lib/python3.11/dist-packages (from pyspark) (0.10.9.7)\n",
            "Collecting python-dotenv\n",
            "  Downloading python_dotenv-1.1.0-py3-none-any.whl.metadata (24 kB)\n",
            "Downloading python_dotenv-1.1.0-py3-none-any.whl (20 kB)\n",
            "Installing collected packages: python-dotenv\n",
            "Successfully installed python-dotenv-1.1.0\n"
          ]
        }
      ],
      "source": [
        "!pip install pyspark\n",
        "!pip install python-dotenv"
      ]
    },
    {
      "cell_type": "code",
      "source": [
        "!pip install pyspark\n",
        "!wget https://repo1.maven.org/maven2/net/snowflake/spark-snowflake_2.12/2.9.1-spark_3.1/spark-snowflake_2.12-2.9.1-spark_3.1.jar\n",
        "!wget https://repo1.maven.org/maven2/net/snowflake/snowflake-jdbc/3.13.3/snowflake-jdbc-3.13.3.jar\n"
      ],
      "metadata": {
        "id": "g1l5a5PdbutZ",
        "outputId": "d9ff4d70-eb83-4d7a-dddc-b62541c52cf5",
        "colab": {
          "base_uri": "https://localhost:8080/"
        }
      },
      "execution_count": null,
      "outputs": [
        {
          "output_type": "stream",
          "name": "stdout",
          "text": [
            "Requirement already satisfied: pyspark in /usr/local/lib/python3.11/dist-packages (3.5.1)\n",
            "Requirement already satisfied: py4j==0.10.9.7 in /usr/local/lib/python3.11/dist-packages (from pyspark) (0.10.9.7)\n",
            "--2025-05-09 21:19:34--  https://repo1.maven.org/maven2/net/snowflake/spark-snowflake_2.12/2.9.1-spark_3.1/spark-snowflake_2.12-2.9.1-spark_3.1.jar\n",
            "Resolving repo1.maven.org (repo1.maven.org)... 199.232.192.209, 199.232.196.209, 2a04:4e42:4c::209, ...\n",
            "Connecting to repo1.maven.org (repo1.maven.org)|199.232.192.209|:443... connected.\n",
            "HTTP request sent, awaiting response... 200 OK\n",
            "Length: 713233 (697K) [application/java-archive]\n",
            "Saving to: ‘spark-snowflake_2.12-2.9.1-spark_3.1.jar’\n",
            "\n",
            "spark-snowflake_2.1 100%[===================>] 696.52K  --.-KB/s    in 0.05s   \n",
            "\n",
            "2025-05-09 21:19:34 (14.8 MB/s) - ‘spark-snowflake_2.12-2.9.1-spark_3.1.jar’ saved [713233/713233]\n",
            "\n",
            "--2025-05-09 21:19:34--  https://repo1.maven.org/maven2/net/snowflake/snowflake-jdbc/3.13.3/snowflake-jdbc-3.13.3.jar\n",
            "Resolving repo1.maven.org (repo1.maven.org)... 199.232.192.209, 199.232.196.209, 2a04:4e42:4c::209, ...\n",
            "Connecting to repo1.maven.org (repo1.maven.org)|199.232.192.209|:443... connected.\n",
            "HTTP request sent, awaiting response... 200 OK\n",
            "Length: 28366326 (27M) [application/java-archive]\n",
            "Saving to: ‘snowflake-jdbc-3.13.3.jar’\n",
            "\n",
            "snowflake-jdbc-3.13 100%[===================>]  27.05M  --.-KB/s    in 0.1s    \n",
            "\n",
            "2025-05-09 21:19:34 (188 MB/s) - ‘snowflake-jdbc-3.13.3.jar’ saved [28366326/28366326]\n",
            "\n"
          ]
        }
      ]
    },
    {
      "cell_type": "code",
      "source": [
        "from pyspark.sql import SparkSession\n",
        "from dotenv import load_dotenv\n",
        "import os\n",
        "from pyspark.sql.functions import explode, col, to_timestamp, substring\n",
        "from pyspark.sql.types import StructType, StructField, StringType, LongType, BooleanType, ArrayType"
      ],
      "metadata": {
        "id": "CCESDcwhWpvz"
      },
      "execution_count": null,
      "outputs": []
    },
    {
      "cell_type": "code",
      "source": [
        "from google.colab import userdata\n",
        "\n",
        "\n",
        "storage_account_name = userdata.get(\"AZURE_ACCOUNT_NAME\")\n",
        "storage_account_key = userdata.get(\"AZURE_STORAGE_KEY\")\n",
        "\n",
        "storage_container_name = \"kaggle-datasets\"\n",
        "parquet_blob_name = \"github-dataset-full.parquet\""
      ],
      "metadata": {
        "id": "vX7FmbqOWtaf"
      },
      "execution_count": null,
      "outputs": []
    },
    {
      "cell_type": "code",
      "source": [
        "# Creating Spark session\n",
        "spark = SparkSession.builder \\\n",
        "    .appName(\"Read Parquet from Azure Blob Storage\") \\\n",
        "    .config(f\"spark.hadoop.fs.azure.account.key.{storage_account_name}.blob.core.windows.net\", storage_account_key) \\\n",
        "    .config(\"spark.jars.packages\", \"org.apache.hadoop:hadoop-azure:3.3.2,com.microsoft.azure:azure-storage:8.6.6\") \\\n",
        "    .config(\"spark.driver.memory\", \"8g\") \\\n",
        "    .getOrCreate()\n",
        "\n",
        "# Remove garbage error texts\n",
        "spark.sparkContext.setLogLevel(\"ERROR\")"
      ],
      "metadata": {
        "id": "cmNla_u8W3XN"
      },
      "execution_count": null,
      "outputs": []
    },
    {
      "cell_type": "markdown",
      "source": [
        " Analytics Steps\n",
        "\n",
        " 1.Load Parquet Files"
      ],
      "metadata": {
        "id": "tV1TOjO6e3Um"
      }
    },
    {
      "cell_type": "code",
      "source": [
        "#Read the data from main file\n",
        "users_df = spark.read.parquet(\n",
        "    \"wasbs://kaggle-datasets@matthewleffler1.blob.core.windows.net/clean_data/non_list_data\"\n",
        ")"
      ],
      "metadata": {
        "id": "5Xgmyae5YJ-j"
      },
      "execution_count": null,
      "outputs": []
    },
    {
      "cell_type": "code",
      "source": [
        "#Read the data from main file\n",
        "commits_df = spark.read.parquet(\n",
        "    \"wasbs://kaggle-datasets@matthewleffler1.blob.core.windows.net/clean_data/commit_list_data\"\n",
        ")"
      ],
      "metadata": {
        "id": "kN0xJtqWd7nF"
      },
      "execution_count": null,
      "outputs": []
    },
    {
      "cell_type": "code",
      "source": [
        "import pandas as pd\n",
        "from pyspark.sql import SparkSession\n",
        "from pyspark.sql.functions import count, coalesce, lit"
      ],
      "metadata": {
        "id": "3yJWPjKgY0Mv"
      },
      "execution_count": null,
      "outputs": []
    },
    {
      "cell_type": "markdown",
      "source": [
        "2.Aggregate Developer Activity per User"
      ],
      "metadata": {
        "id": "rgfPaVhufG9C"
      }
    },
    {
      "cell_type": "code",
      "source": [
        "from pyspark.sql.functions import year, count\n",
        "\n",
        "filtered_df = commits_df.filter(\n",
        "    (year(commits_df.generate_at) >= 2008) &\n",
        "    (year(commits_df.generate_at) <= 2018)\n",
        ")"
      ],
      "metadata": {
        "id": "-JNCNDphC93D"
      },
      "execution_count": null,
      "outputs": []
    },
    {
      "cell_type": "code",
      "source": [
        "commit_counts = filtered_df.groupBy(\"committer_id\").agg(count(\"*\").alias(\"commit_count\"))"
      ],
      "metadata": {
        "id": "TuJPc33cfMpD"
      },
      "execution_count": null,
      "outputs": []
    },
    {
      "cell_type": "markdown",
      "source": [
        "The above code groups all commits by user (committer_id) and counts how many commits each user made. The result is a table with each user's ID and their total number of commits."
      ],
      "metadata": {
        "id": "hFVJy7FPf81j"
      }
    },
    {
      "cell_type": "code",
      "source": [
        "users_with_commits = users_df.join(\n",
        "    commit_counts,\n",
        "    users_df.id == commit_counts.committer_id,\n",
        "    how=\"left\"\n",
        ")"
      ],
      "metadata": {
        "id": "nMwv_X8VgAyO"
      },
      "execution_count": null,
      "outputs": []
    },
    {
      "cell_type": "markdown",
      "source": [
        "This left joins the users_df with commit_counts, matching id from users with committer_id from commits, and keeps all users even those with no commits."
      ],
      "metadata": {
        "id": "VQSAd04dgfc_"
      }
    },
    {
      "cell_type": "code",
      "source": [
        "users_with_commits = users_with_commits.withColumn(\n",
        "    \"commit_count\",\n",
        "    coalesce(\"commit_count\", lit(0))\n",
        ")"
      ],
      "metadata": {
        "id": "pHnaou5lgnNh"
      },
      "execution_count": null,
      "outputs": []
    },
    {
      "cell_type": "markdown",
      "source": [
        "Some users did not have any commits, so NaN appears. We replace it with 0."
      ],
      "metadata": {
        "id": "byvhRo8qhXlb"
      }
    },
    {
      "cell_type": "markdown",
      "source": [
        "3. Compute Developer Activity Score"
      ],
      "metadata": {
        "id": "zMo_yfPpiGGP"
      }
    },
    {
      "cell_type": "code",
      "source": [
        "users_with_score = users_with_commits.withColumn(\n",
        "    \"activity_score\",\n",
        "    3 * col(\"commit_count\") +\n",
        "    2 * col(\"public_repos\") +\n",
        "    1 * col(\"followers\") +\n",
        "    0.5 * col(\"public_gists\")\n",
        ")"
      ],
      "metadata": {
        "id": "yZeX7MUDhZ-B"
      },
      "execution_count": null,
      "outputs": []
    },
    {
      "cell_type": "markdown",
      "source": [
        "This creates a new column called activity_score by:\n",
        "\n",
        "Giving more importance to commits (×3)\n",
        "\n",
        "Adding weight to public repos (×2), followers (×1), and gists (×0.5)\n",
        "\n",
        "It uses col(\"...\") to reference columns in PySpark."
      ],
      "metadata": {
        "id": "VeNBK7KTh3i-"
      }
    },
    {
      "cell_type": "markdown",
      "source": [
        "Fix: Normalize Company Names"
      ],
      "metadata": {
        "id": "dquG6DVAmR0h"
      }
    },
    {
      "cell_type": "code",
      "source": [
        "from pyspark.sql.functions import lower, trim, regexp_replace\n",
        "\n",
        "# Clean company names: lowercase, remove '@', strip spaces\n",
        "users_normalized = users_with_score.withColumn(\n",
        "    \"company_cleaned\",\n",
        "    trim(lower(regexp_replace(col(\"company\"), \"@\", \"\")))\n",
        ").withColumn(\n",
        "    \"location\",\n",
        "    trim(lower(col(\"location\")))\n",
        ")"
      ],
      "metadata": {
        "id": "oZ1wnKahmIa9"
      },
      "execution_count": null,
      "outputs": []
    },
    {
      "cell_type": "markdown",
      "source": [
        "This will convert:\n",
        "\n",
        "\"@Microsoft \" → \"microsoft\"\n",
        "\n",
        "\" Microsoft\" → \"microsoft\"\n",
        "\n",
        "\"MICROSOFT\" → \"microsoft\""
      ],
      "metadata": {
        "id": "eXRNs4AimMru"
      }
    },
    {
      "cell_type": "code",
      "source": [
        "users_filtered = users_normalized.filter(\n",
        "    col(\"company_cleaned\").isNotNull() &\n",
        "    (col(\"company_cleaned\") != \"\") &\n",
        "    (col(\"company_cleaned\") != \"none\") &\n",
        "    col(\"location\").isNotNull() &\n",
        "    (col(\"location\") != \"\") &\n",
        "    (col(\"location\") != \"none\")\n",
        ")"
      ],
      "metadata": {
        "id": "bIML9sWKku2v"
      },
      "execution_count": null,
      "outputs": []
    },
    {
      "cell_type": "markdown",
      "source": [
        "Filter the Null company values"
      ],
      "metadata": {
        "id": "RISlqwaEk5Ct"
      }
    },
    {
      "cell_type": "markdown",
      "source": [
        "5.Aggregate by Company"
      ],
      "metadata": {
        "id": "rzF2UPqBiBpP"
      }
    },
    {
      "cell_type": "code",
      "source": [
        "company_scores = users_filtered.groupBy(\"company_cleaned\").sum(\"activity_score\") \\\n",
        "    .withColumnRenamed(\"sum(activity_score)\", \"activity_score\")\n"
      ],
      "metadata": {
        "id": "_5q3h3FHheb3"
      },
      "execution_count": null,
      "outputs": []
    },
    {
      "cell_type": "markdown",
      "source": [
        " This groups all users by company and sums their activity scores."
      ],
      "metadata": {
        "id": "58HluSi1i2A5"
      }
    },
    {
      "cell_type": "code",
      "source": [
        "from pyspark.sql.window import Window\n",
        "from pyspark.sql.functions import count, row_number\n",
        "\n",
        "location_counts = users_filtered.groupBy(\"company_cleaned\", \"location\").agg(count(\"*\").alias(\"count\"))\n",
        "\n",
        "# Rank locations per company\n",
        "windowSpec = Window.partitionBy(\"company_cleaned\").orderBy(col(\"count\").desc())\n",
        "\n",
        "top_locations = location_counts.withColumn(\"rank\", row_number().over(windowSpec)) \\\n",
        "    .filter(col(\"rank\") == 1) \\\n",
        "    .drop(\"count\", \"rank\")\n"
      ],
      "metadata": {
        "id": "5xJv9eOC7JWm"
      },
      "execution_count": null,
      "outputs": []
    },
    {
      "cell_type": "markdown",
      "source": [
        "This just renames the column to keep it clean."
      ],
      "metadata": {
        "id": "jZTbgRNrjDvZ"
      }
    },
    {
      "cell_type": "code",
      "source": [
        "top_20 = company_scores.orderBy(col(\"activity_score\").desc()).limit(20)"
      ],
      "metadata": {
        "id": "d04NCJA4ip0v"
      },
      "execution_count": null,
      "outputs": []
    },
    {
      "cell_type": "code",
      "source": [
        "top_20_with_location = top_20.join(top_locations, on=\"company_cleaned\", how=\"left\")"
      ],
      "metadata": {
        "id": "3M_xCbse7ryl"
      },
      "execution_count": null,
      "outputs": []
    },
    {
      "cell_type": "markdown",
      "source": [
        "This sorts companies by total activity and takes the top 200."
      ],
      "metadata": {
        "id": "UyCjYMWVjQkv"
      }
    },
    {
      "cell_type": "code",
      "source": [
        "top_20_final = top_20_with_location \\\n",
        "    .withColumnRenamed(\"company_cleaned\", \"company\") \\\n",
        "    .orderBy(col(\"activity_score\").desc())"
      ],
      "metadata": {
        "id": "QiEK3U3rjRHZ"
      },
      "execution_count": null,
      "outputs": []
    },
    {
      "cell_type": "code",
      "source": [
        "print(top_20_final.columns)"
      ],
      "metadata": {
        "colab": {
          "base_uri": "https://localhost:8080/"
        },
        "id": "Of-cpaJc1PUe",
        "outputId": "06d985c6-51ec-44e8-a88c-e2e1098c5fa7"
      },
      "execution_count": null,
      "outputs": [
        {
          "output_type": "stream",
          "name": "stdout",
          "text": [
            "['company', 'activity_score', 'location']\n"
          ]
        }
      ]
    },
    {
      "cell_type": "code",
      "source": [
        "top_20_final.show(truncate=False)"
      ],
      "metadata": {
        "colab": {
          "base_uri": "https://localhost:8080/"
        },
        "id": "AtuXAqfIxhMP",
        "outputId": "0b8edbc1-9004-4cd1-afb7-78144114d3c8"
      },
      "execution_count": null,
      "outputs": [
        {
          "output_type": "stream",
          "name": "stdout",
          "text": [
            "+--------------------------+--------------+-----------------+\n",
            "|company                   |activity_score|location         |\n",
            "+--------------------------+--------------+-----------------+\n",
            "|microsoft                 |581301.5      |redmond, wa      |\n",
            "|cocoapods                 |508770.0      |the astral cloud |\n",
            "|google                    |433730.0      |mountain view, ca|\n",
            "|freelance                 |200007.0      |ukraine          |\n",
            "|ibm                       |182668.0      |austin, tx       |\n",
            "|thoughtworks              |178208.0      |bangalore        |\n",
            "|freelancer                |156094.0      |india            |\n",
            "|facebook                  |154289.0      |menlo park, ca   |\n",
            "|student                   |136263.0      |india            |\n",
            "|tencent                   |134938.5      |shenzhen         |\n",
            "|red hat                   |132987.5      |raleigh, nc      |\n",
            "|alibaba                   |120568.0      |hangzhou         |\n",
            "|carnegie mellon university|117605.5      |pittsburgh, pa   |\n",
            "|baidu                     |109871.5      |beijing          |\n",
            "|amazon                    |101331.0      |seattle, wa      |\n",
            "|shopify                   |89632.0       |ottawa           |\n",
            "|andela                    |79833.0       |lagos, nigeria   |\n",
            "|university of washington  |79150.5       |seattle, wa      |\n",
            "|yandex                    |76583.5       |moscow           |\n",
            "|uber                      |75849.0       |san francisco    |\n",
            "+--------------------------+--------------+-----------------+\n",
            "\n"
          ]
        }
      ]
    },
    {
      "cell_type": "code",
      "source": [
        "top_20_final.write.mode(\"overwrite\").parquet(\n",
        "    \"wasbs://kaggle-datasets@matthewleffler1.blob.core.windows.net/analytics/top_20_company_activities\"\n",
        ")"
      ],
      "metadata": {
        "id": "EwAUac7VnUPz"
      },
      "execution_count": null,
      "outputs": []
    },
    {
      "cell_type": "code",
      "source": [
        "top_companies_df_source = spark.read.parquet(\n",
        "    \"wasbs://kaggle-datasets@matthewleffler1.blob.core.windows.net/analytics/top_20_company_activities\"\n",
        ")"
      ],
      "metadata": {
        "id": "bGb92gbaniL0"
      },
      "execution_count": null,
      "outputs": []
    },
    {
      "cell_type": "code",
      "source": [
        "top_companies_df_source.show()"
      ],
      "metadata": {
        "colab": {
          "base_uri": "https://localhost:8080/"
        },
        "id": "4xodkddQos1y",
        "outputId": "91937d6c-db01-424a-eda3-ee30e5e65e31"
      },
      "execution_count": null,
      "outputs": [
        {
          "output_type": "stream",
          "name": "stdout",
          "text": [
            "+--------------------+--------------+-----------------+\n",
            "|             company|activity_score|         location|\n",
            "+--------------------+--------------+-----------------+\n",
            "|           microsoft|      581301.5|      redmond, wa|\n",
            "|           cocoapods|      508770.0| the astral cloud|\n",
            "|              google|      433730.0|mountain view, ca|\n",
            "|           freelance|      200007.0|          ukraine|\n",
            "|                 ibm|      182668.0|       austin, tx|\n",
            "|        thoughtworks|      178208.0|        bangalore|\n",
            "|          freelancer|      156094.0|            india|\n",
            "|            facebook|      154289.0|   menlo park, ca|\n",
            "|             student|      136263.0|            india|\n",
            "|             tencent|      134938.5|         shenzhen|\n",
            "|             red hat|      132987.5|      raleigh, nc|\n",
            "|             alibaba|      120568.0|         hangzhou|\n",
            "|carnegie mellon u...|      117605.5|   pittsburgh, pa|\n",
            "|               baidu|      109871.5|          beijing|\n",
            "|              amazon|      101331.0|      seattle, wa|\n",
            "|             shopify|       89632.0|           ottawa|\n",
            "|              andela|       79833.0|   lagos, nigeria|\n",
            "|university of was...|       79150.5|      seattle, wa|\n",
            "|              yandex|       76583.5|           moscow|\n",
            "|                uber|       75849.0|    san francisco|\n",
            "+--------------------+--------------+-----------------+\n",
            "\n"
          ]
        }
      ]
    },
    {
      "cell_type": "code",
      "source": [
        "top_20_with_location.orderBy(col(\"activity_score\").desc()).explain()"
      ],
      "metadata": {
        "colab": {
          "base_uri": "https://localhost:8080/"
        },
        "id": "En1y1QXgLK6s",
        "outputId": "46bbbc52-6d78-4f5a-d584-9ecb383f0008"
      },
      "execution_count": null,
      "outputs": [
        {
          "output_type": "stream",
          "name": "stdout",
          "text": [
            "== Physical Plan ==\n",
            "AdaptiveSparkPlan isFinalPlan=false\n",
            "+- Sort [activity_score#330 DESC NULLS LAST], true, 0\n",
            "   +- Exchange rangepartitioning(activity_score#330 DESC NULLS LAST, 200), ENSURE_REQUIREMENTS, [plan_id=1765]\n",
            "      +- Project [company_cleaned#258, activity_score#330, location#281]\n",
            "         +- SortMergeJoin [company_cleaned#258], [company_cleaned#397], LeftOuter\n",
            "            :- Sort [company_cleaned#258 ASC NULLS FIRST], false, 0\n",
            "            :  +- Exchange hashpartitioning(company_cleaned#258, 200), ENSURE_REQUIREMENTS, [plan_id=1760]\n",
            "            :     +- TakeOrderedAndProject(limit=20, orderBy=[activity_score#330 DESC NULLS LAST], output=[company_cleaned#258,activity_score#330])\n",
            "            :        +- HashAggregate(keys=[company_cleaned#258], functions=[sum(activity_score#236)])\n",
            "            :           +- Exchange hashpartitioning(company_cleaned#258, 200), ENSURE_REQUIREMENTS, [plan_id=1743]\n",
            "            :              +- HashAggregate(keys=[company_cleaned#258], functions=[partial_sum(activity_score#236)])\n",
            "            :                 +- Project [(cast((((coalesce(commit_count#172L, 0) * 3) + (public_repos#15L * 2)) + (followers#6L * 1)) as double) + (cast(public_gists#14L as double) * 0.5)) AS activity_score#236, trim(lower(regexp_replace(company#3, @, , 1)), None) AS company_cleaned#258]\n",
            "            :                    +- SortMergeJoin [id#9L], [committer_id#40L], LeftOuter\n",
            "            :                       :- Sort [id#9L ASC NULLS FIRST], false, 0\n",
            "            :                       :  +- Exchange hashpartitioning(id#9L, 200), ENSURE_REQUIREMENTS, [plan_id=1736]\n",
            "            :                       :     +- Project [company#3, followers#6L, id#9L, public_gists#14L, public_repos#15L]\n",
            "            :                       :        +- Filter (((((isnotnull(trim(lower(regexp_replace(company#3, @, , 1)), None)) AND NOT (trim(lower(regexp_replace(company#3, @, , 1)), None) = )) AND NOT (trim(lower(regexp_replace(company#3, @, , 1)), None) = none)) AND isnotnull(trim(lower(location#11), None))) AND NOT (trim(lower(location#11), None) = )) AND NOT (trim(lower(location#11), None) = none))\n",
            "            :                       :           +- FileScan parquet [company#3,followers#6L,id#9L,location#11,public_gists#14L,public_repos#15L] Batched: true, DataFilters: [isnotnull(trim(lower(regexp_replace(company#3, @, , 1)), None)), NOT (trim(lower(regexp_replace(..., Format: Parquet, Location: InMemoryFileIndex(1 paths)[wasbs://kaggle-datasets@matthewleffler1.blob.core.windows.net/clean_da..., PartitionFilters: [], PushedFilters: [], ReadSchema: struct<company:string,followers:bigint,id:bigint,location:string,public_gists:bigint,public_repos...\n",
            "            :                       +- Sort [committer_id#40L ASC NULLS FIRST], false, 0\n",
            "            :                          +- HashAggregate(keys=[committer_id#40L], functions=[count(1)])\n",
            "            :                             +- Exchange hashpartitioning(committer_id#40L, 200), ENSURE_REQUIREMENTS, [plan_id=1732]\n",
            "            :                                +- HashAggregate(keys=[committer_id#40L], functions=[partial_count(1)])\n",
            "            :                                   +- Project [committer_id#40L]\n",
            "            :                                      +- Filter (((isnotnull(generate_at#41) AND (year(cast(generate_at#41 as date)) >= 2008)) AND (year(cast(generate_at#41 as date)) <= 2018)) AND isnotnull(committer_id#40L))\n",
            "            :                                         +- FileScan parquet [committer_id#40L,generate_at#41] Batched: true, DataFilters: [isnotnull(generate_at#41), (year(cast(generate_at#41 as date)) >= 2008), (year(cast(generate_at#..., Format: Parquet, Location: InMemoryFileIndex(1 paths)[wasbs://kaggle-datasets@matthewleffler1.blob.core.windows.net/clean_da..., PartitionFilters: [], PushedFilters: [IsNotNull(generate_at), IsNotNull(committer_id)], ReadSchema: struct<committer_id:bigint,generate_at:timestamp>\n",
            "            +- Project [company_cleaned#397, location#281]\n",
            "               +- Filter (rank#361 = 1)\n",
            "                  +- Window [row_number() windowspecdefinition(company_cleaned#397, count#356L DESC NULLS LAST, specifiedwindowframe(RowFrame, unboundedpreceding$(), currentrow$())) AS rank#361], [company_cleaned#397], [count#356L DESC NULLS LAST]\n",
            "                     +- WindowGroupLimit [company_cleaned#397], [count#356L DESC NULLS LAST], row_number(), 1, Final\n",
            "                        +- Sort [company_cleaned#397 ASC NULLS FIRST, count#356L DESC NULLS LAST], false, 0\n",
            "                           +- Exchange hashpartitioning(company_cleaned#397, 200), ENSURE_REQUIREMENTS, [plan_id=1752]\n",
            "                              +- WindowGroupLimit [company_cleaned#397], [count#356L DESC NULLS LAST], row_number(), 1, Partial\n",
            "                                 +- Sort [company_cleaned#397 ASC NULLS FIRST, count#356L DESC NULLS LAST], false, 0\n",
            "                                    +- HashAggregate(keys=[company_cleaned#397, location#281], functions=[count(1)])\n",
            "                                       +- Exchange hashpartitioning(company_cleaned#397, location#281, 200), ENSURE_REQUIREMENTS, [plan_id=1746]\n",
            "                                          +- HashAggregate(keys=[company_cleaned#397, location#281], functions=[partial_count(1)])\n",
            "                                             +- Project [trim(lower(location#379), None) AS location#281, trim(lower(regexp_replace(company#371, @, , 1)), None) AS company_cleaned#397]\n",
            "                                                +- Filter (((((isnotnull(trim(lower(regexp_replace(company#371, @, , 1)), None)) AND NOT (trim(lower(regexp_replace(company#371, @, , 1)), None) = )) AND NOT (trim(lower(regexp_replace(company#371, @, , 1)), None) = none)) AND isnotnull(trim(lower(location#379), None))) AND NOT (trim(lower(location#379), None) = )) AND NOT (trim(lower(location#379), None) = none))\n",
            "                                                   +- FileScan parquet [company#371,location#379] Batched: true, DataFilters: [isnotnull(trim(lower(regexp_replace(company#371, @, , 1)), None)), NOT (trim(lower(regexp_replac..., Format: Parquet, Location: InMemoryFileIndex(1 paths)[wasbs://kaggle-datasets@matthewleffler1.blob.core.windows.net/clean_da..., PartitionFilters: [], PushedFilters: [], ReadSchema: struct<company:string,location:string>\n",
            "\n",
            "\n"
          ]
        }
      ]
    },
    {
      "cell_type": "code",
      "source": [
        "# Collect top 20 with location\n",
        "top_20_pd = top_20_final.orderBy(\"activity_score\", ascending=False).limit(20).toPandas()\n",
        "\n",
        "import matplotlib.pyplot as plt\n",
        "import numpy as np\n",
        "\n",
        "# Add a label that combines company and location\n",
        "top_20_pd[\"label\"] = top_20_pd[\"company\"].str.title() + \" (\" + top_20_pd[\"location\"].fillna(\"Unknown\").str.title() + \")\"\n",
        "\n",
        "# Generate random colors\n",
        "colors = np.random.rand(len(top_20_pd), 3)\n",
        "\n",
        "# Plot\n",
        "plt.figure(figsize=(12, 8))\n",
        "plt.barh(top_20_pd[\"label\"], top_20_pd[\"activity_score\"], color=colors)\n",
        "plt.xlabel(\"Activity Score\")\n",
        "plt.title(\"Top 20 Companies by Developer Activity (with Location)\")\n",
        "plt.gca().invert_yaxis()\n",
        "plt.tight_layout()\n",
        "plt.show()\n"
      ],
      "metadata": {
        "colab": {
          "base_uri": "https://localhost:8080/",
          "height": 807
        },
        "id": "6lXyipk3kaQK",
        "outputId": "0c9c7d4a-32b2-48e2-d1b9-990f0314301e"
      },
      "execution_count": null,
      "outputs": [
        {
          "output_type": "display_data",
          "data": {
            "text/plain": [
              "<Figure size 1200x800 with 1 Axes>"
            ],
            "image/png": "[encoded data removed]"
          },
          "metadata": {}
        }
      ]
    },
    {
      "cell_type": "code",
      "source": [],
      "metadata": {
        "id": "9tX8TJhOCzGL"
      },
      "execution_count": null,
      "outputs": []
    },
    {
      "cell_type": "markdown",
      "source": [
        "## SQL query for above steps\n",
        "-- 1. Count commits per user\n",
        "WITH commit_counts AS (\n",
        "\n",
        "  SELECT\n",
        "\n",
        "    committer_id,\n",
        "\n",
        "    COUNT(*) AS commit_count\n",
        "\n",
        "  FROM commits\n",
        "\n",
        "  WHERE YEAR(generate_at) BETWEEN 2008 AND 2018\n",
        "\n",
        "  GROUP BY committer_id\n",
        "\n",
        ")\n",
        "\n",
        "SELECT * FROM commit_counts;\n",
        "\n",
        "\n",
        "\n",
        "-- 2. Join with users and compute activity score\n",
        "\n",
        "users_enriched AS (\n",
        "\n",
        "  SELECT\n",
        "\n",
        "    LOWER(TRIM(REPLACE(u.company, '@', ''))) AS company_cleaned,\n",
        "\n",
        "    LOWER(TRIM(u.location)) AS location,\n",
        "\n",
        "    COALESCE(c.commit_count, 0) AS commit_count,\n",
        "    \n",
        "    u.public_repos,\n",
        "\n",
        "    u.followers,\n",
        "\n",
        "    u.public_gists,\n",
        "\n",
        "    (\n",
        "\n",
        "      3 * COALESCE(c.commit_count, 0) +\n",
        "\n",
        "      2 * u.public_repos +\n",
        "\n",
        "      1 * u.followers +\n",
        "\n",
        "      0.5 * u.public_gists\n",
        "\n",
        "    ) AS activity_score\n",
        "\n",
        "  FROM users_with_score u\n",
        "\n",
        "  LEFT JOIN commit_counts c ON u.id = c.committer_id\n",
        "\n",
        "  WHERE u.company IS NOT NULL AND TRIM(LOWER(u.company)) NOT IN ('', 'none')\n",
        "\n",
        "),\n",
        "\n",
        "\n",
        "-- 3. Sum activity score per company\n",
        "\n",
        "company_scores AS (\n",
        "\n",
        "  SELECT\n",
        "\n",
        "    company_cleaned,\n",
        "\n",
        "    SUM(activity_score) AS total_activity_score\n",
        "\n",
        "  FROM users_enriched\n",
        "\n",
        "  GROUP BY company_cleaned\n",
        "\n",
        "),\n",
        "\n",
        "-- 4. Find most common location per company\n",
        "\n",
        "location_mode AS (\n",
        "\n",
        "  SELECT\n",
        "\n",
        "    company_cleaned,\n",
        "\n",
        "    location,\n",
        "\n",
        "    ROW_NUMBER() OVER (PARTITION BY company_cleaned ORDER BY COUNT(*) DESC) AS\n",
        "    row_num\n",
        "\n",
        "  FROM users_enriched\n",
        "\n",
        "  WHERE location IS NOT NULL AND location != ''\n",
        "\n",
        "  GROUP BY company_cleaned, location\n",
        "\n",
        ")\n",
        "\n",
        "-- 5. Final output: top 20 companies with top location\n",
        "\n",
        "SELECT\n",
        "\n",
        "  cs.company_cleaned AS company,\n",
        "\n",
        "  cs.total_activity_score,\n",
        "\n",
        "  lm.location\n",
        "\n",
        "FROM\n",
        "\n",
        "  company_scores cs\n",
        "\n",
        "LEFT JOIN\n",
        "\n",
        "  location_mode lm\n",
        "\n",
        "  ON cs.company_cleaned = lm.company_cleaned AND lm.row_num = 1\n",
        "\n",
        "ORDER BY\n",
        "\n",
        "  cs.total_activity_score DESC\n",
        "  \n",
        "LIMIT 20;\n"
      ],
      "metadata": {
        "id": "BNHJTAO4C2Ub"
      }
    },
    {
      "cell_type": "markdown",
      "source": [
        "Download Top 500 companies data in a Excel file"
      ],
      "metadata": {
        "id": "-0JAFFbgN9VC"
      }
    },
    {
      "cell_type": "markdown",
      "source": [
        "# Load data in Snowflake"
      ],
      "metadata": {
        "id": "qtNb4mFRLbeH"
      }
    },
    {
      "cell_type": "code",
      "source": [
        "!pip install pyspark\n",
        "!pip install python-dotenv\n",
        "!pip install snowflake-connector-python"
      ],
      "metadata": {
        "colab": {
          "base_uri": "https://localhost:8080/"
        },
        "id": "V85qYLUULZNy",
        "outputId": "8738a9bb-f75e-41cb-a03f-23add50c3e02"
      },
      "execution_count": null,
      "outputs": [
        {
          "output_type": "stream",
          "name": "stdout",
          "text": [
            "Requirement already satisfied: pyspark in /usr/local/lib/python3.11/dist-packages (3.5.1)\n",
            "Requirement already satisfied: py4j==0.10.9.7 in /usr/local/lib/python3.11/dist-packages (from pyspark) (0.10.9.7)\n",
            "Requirement already satisfied: python-dotenv in /usr/local/lib/python3.11/dist-packages (1.1.0)\n",
            "Requirement already satisfied: snowflake-connector-python in /usr/local/lib/python3.11/dist-packages (3.15.0)\n",
            "Requirement already satisfied: asn1crypto<2.0.0,>0.24.0 in /usr/local/lib/python3.11/dist-packages (from snowflake-connector-python) (1.5.1)\n",
            "Requirement already satisfied: boto3>=1.24 in /usr/local/lib/python3.11/dist-packages (from snowflake-connector-python) (1.38.13)\n",
            "Requirement already satisfied: botocore>=1.24 in /usr/local/lib/python3.11/dist-packages (from snowflake-connector-python) (1.38.13)\n",
            "Requirement already satisfied: cffi<2.0.0,>=1.9 in /usr/local/lib/python3.11/dist-packages (from snowflake-connector-python) (1.17.1)\n",
            "Requirement already satisfied: cryptography>=3.1.0 in /usr/local/lib/python3.11/dist-packages (from snowflake-connector-python) (43.0.3)\n",
            "Requirement already satisfied: pyOpenSSL<26.0.0,>=22.0.0 in /usr/local/lib/python3.11/dist-packages (from snowflake-connector-python) (24.2.1)\n",
            "Requirement already satisfied: pyjwt<3.0.0 in /usr/local/lib/python3.11/dist-packages (from snowflake-connector-python) (2.10.1)\n",
            "Requirement already satisfied: pytz in /usr/local/lib/python3.11/dist-packages (from snowflake-connector-python) (2025.2)\n",
            "Requirement already satisfied: requests<3.0.0 in /usr/local/lib/python3.11/dist-packages (from snowflake-connector-python) (2.32.3)\n",
            "Requirement already satisfied: packaging in /usr/local/lib/python3.11/dist-packages (from snowflake-connector-python) (24.2)\n",
            "Requirement already satisfied: charset_normalizer<4,>=2 in /usr/local/lib/python3.11/dist-packages (from snowflake-connector-python) (3.4.1)\n",
            "Requirement already satisfied: idna<4,>=2.5 in /usr/local/lib/python3.11/dist-packages (from snowflake-connector-python) (3.10)\n",
            "Requirement already satisfied: certifi>=2017.4.17 in /usr/local/lib/python3.11/dist-packages (from snowflake-connector-python) (2025.4.26)\n",
            "Requirement already satisfied: typing_extensions<5,>=4.3 in /usr/local/lib/python3.11/dist-packages (from snowflake-connector-python) (4.13.2)\n",
            "Requirement already satisfied: filelock<4,>=3.5 in /usr/local/lib/python3.11/dist-packages (from snowflake-connector-python) (3.18.0)\n",
            "Requirement already satisfied: sortedcontainers>=2.4.0 in /usr/local/lib/python3.11/dist-packages (from snowflake-connector-python) (2.4.0)\n",
            "Requirement already satisfied: platformdirs<5.0.0,>=2.6.0 in /usr/local/lib/python3.11/dist-packages (from snowflake-connector-python) (4.3.7)\n",
            "Requirement already satisfied: tomlkit in /usr/local/lib/python3.11/dist-packages (from snowflake-connector-python) (0.13.2)\n",
            "Requirement already satisfied: jmespath<2.0.0,>=0.7.1 in /usr/local/lib/python3.11/dist-packages (from boto3>=1.24->snowflake-connector-python) (1.0.1)\n",
            "Requirement already satisfied: s3transfer<0.13.0,>=0.12.0 in /usr/local/lib/python3.11/dist-packages (from boto3>=1.24->snowflake-connector-python) (0.12.0)\n",
            "Requirement already satisfied: python-dateutil<3.0.0,>=2.1 in /usr/local/lib/python3.11/dist-packages (from botocore>=1.24->snowflake-connector-python) (2.9.0.post0)\n",
            "Requirement already satisfied: urllib3!=2.2.0,<3,>=1.25.4 in /usr/local/lib/python3.11/dist-packages (from botocore>=1.24->snowflake-connector-python) (2.4.0)\n",
            "Requirement already satisfied: pycparser in /usr/local/lib/python3.11/dist-packages (from cffi<2.0.0,>=1.9->snowflake-connector-python) (2.22)\n",
            "Requirement already satisfied: six>=1.5 in /usr/local/lib/python3.11/dist-packages (from python-dateutil<3.0.0,>=2.1->botocore>=1.24->snowflake-connector-python) (1.17.0)\n"
          ]
        }
      ]
    },
    {
      "cell_type": "code",
      "source": [
        "import snowflake.connector\n",
        "from google.colab import userdata\n",
        "\n",
        "# Replace the placeholders with your actual Snowflake credentials\n",
        "conn = snowflake.connector.connect(\n",
        "    user = userdata.get('snowflake_user'),\n",
        "    password = userdata.get('snowflake_password'),\n",
        "    account= userdata.get('snowflake_accounr'),\n",
        "    warehouse='COMPUTE_WH',\n",
        "    database='BIGDATA_GITHUB',\n",
        "    schema='RAW',\n",
        "    role='ACCOUNTADMIN'\n",
        ")"
      ],
      "metadata": {
        "id": "zPyII1AiMQgV"
      },
      "execution_count": null,
      "outputs": []
    },
    {
      "cell_type": "code",
      "source": [
        "cur = conn.cursor()\n",
        "url = 'azure://matthewleffler1.blob.core.windows.net/kaggle-datasets/analytics/top_20_company_activities'\n",
        "\n",
        "try:\n",
        "    cur.execute(\"BEGIN;\")\n",
        "    cur.execute(f\"\"\"\n",
        "        CREATE OR REPLACE STAGE BIGDATA_GITHUB.ANALYTICS.azure_parquet_stage_top20_companies_activities\n",
        "          URL = '{url}'\n",
        "          CREDENTIALS = (\n",
        "            AZURE_SAS_TOKEN = '{userdata.get('AZURE_SAS_TOKEN')}'\n",
        "          )\n",
        "          FILE_FORMAT = (TYPE = PARQUET);\n",
        "        \"\"\")\n",
        "    cur.execute(\"COMMIT;\")\n",
        "    print(f\"Successfullt created stage.\")\n",
        "except Exception as e:\n",
        "    cur.execute(\"ROLLBACK;\")\n",
        "    print(f\"Error creating database object: {e}\")\n",
        "finally:\n",
        "    cur.close()"
      ],
      "metadata": {
        "colab": {
          "base_uri": "https://localhost:8080/"
        },
        "id": "Kw3yisFcMTpc",
        "outputId": "a937b463-0872-4f90-c290-b92af906edd2"
      },
      "execution_count": null,
      "outputs": [
        {
          "output_type": "stream",
          "name": "stdout",
          "text": [
            "Successfullt created stage.\n"
          ]
        }
      ]
    },
    {
      "cell_type": "code",
      "source": [
        "cur = conn.cursor()\n",
        "table_name = 'BIGDATA_GITHUB.ANALYTICS.TOP_COMPANY_ACTIVITY_SUMMARY'\n",
        "\n",
        "try:\n",
        "    cur.execute(\"BEGIN;\")\n",
        "    cur.execute(f\"\"\"\n",
        "      COPY INTO {table_name}\n",
        "      FROM @BIGDATA_GITHUB.ANALYTICS.AZURE_PARQUET_STAGE_TOP20_COMPANIES_ACTIVITIES\n",
        "      FILE_FORMAT = (TYPE = PARQUET)\n",
        "      MATCH_BY_COLUMN_NAME = CASE_INSENSITIVE\n",
        "      ON_ERROR = CONTINUE;\n",
        "          \"\"\")\n",
        "    cur.execute(\"COMMIT;\")\n",
        "    print(f\"Data loaded into {table_name} successfully.\")\n",
        "except Exception as e:\n",
        "    cur.execute(\"ROLLBACK;\")\n",
        "    print(f\"Error loading data: {e}\")\n",
        "finally:\n",
        "    cur.close()"
      ],
      "metadata": {
        "colab": {
          "base_uri": "https://localhost:8080/"
        },
        "id": "sqQk-65sjIQV",
        "outputId": "30b523f3-550f-4f12-9c5e-a639ed633c37"
      },
      "execution_count": null,
      "outputs": [
        {
          "output_type": "stream",
          "name": "stdout",
          "text": [
            "Data loaded into BIGDATA_GITHUB.ANALYTICS.TOP_COMPANY_ACTIVITY_SUMMARY successfully.\n"
          ]
        }
      ]
    }
  ]
}