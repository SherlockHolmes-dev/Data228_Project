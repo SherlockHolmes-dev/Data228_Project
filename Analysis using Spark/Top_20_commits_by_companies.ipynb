{
  "nbformat": 4,
  "nbformat_minor": 0,
  "metadata": {
    "colab": {
      "provenance": []
    },
    "kernelspec": {
      "name": "python3",
      "display_name": "Python 3"
    },
    "language_info": {
      "name": "python"
    }
  },
  "cells": [
    {
      "cell_type": "code",
      "execution_count": 1,
      "metadata": {
        "colab": {
          "base_uri": "https://localhost:8080/"
        },
        "id": "ueggL9klWUX-",
        "outputId": "a2abede0-14b9-4380-a4a6-a13b71a2b01b"
      },
      "outputs": [
        {
          "output_type": "stream",
          "name": "stdout",
          "text": [
            "Requirement already satisfied: pyspark in /usr/local/lib/python3.11/dist-packages (3.5.1)\n",
            "Requirement already satisfied: py4j==0.10.9.7 in /usr/local/lib/python3.11/dist-packages (from pyspark) (0.10.9.7)\n",
            "Collecting python-dotenv\n",
            "  Downloading python_dotenv-1.1.0-py3-none-any.whl.metadata (24 kB)\n",
            "Downloading python_dotenv-1.1.0-py3-none-any.whl (20 kB)\n",
            "Installing collected packages: python-dotenv\n",
            "Successfully installed python-dotenv-1.1.0\n"
          ]
        }
      ],
      "source": [
        "!pip install pyspark\n",
        "!pip install python-dotenv"
      ]
    },
    {
      "cell_type": "code",
      "source": [
        "from pyspark.sql import SparkSession\n",
        "from dotenv import load_dotenv\n",
        "import os\n",
        "from pyspark.sql.functions import explode, col, to_timestamp, substring\n",
        "from pyspark.sql.types import StructType, StructField, StringType, LongType, BooleanType, ArrayType"
      ],
      "metadata": {
        "id": "CCESDcwhWpvz"
      },
      "execution_count": 2,
      "outputs": []
    },
    {
      "cell_type": "code",
      "source": [
        "from google.colab import userdata\n",
        "\n",
        "\n",
        "storage_account_name = userdata.get(\"AZURE_ACCOUNT_NAME\")\n",
        "storage_account_key = userdata.get(\"AZURE_STORAGE_KEY\")\n",
        "\n",
        "storage_container_name = \"kaggle-datasets\"\n",
        "parquet_blob_name = \"github-dataset-full.parquet\""
      ],
      "metadata": {
        "id": "vX7FmbqOWtaf"
      },
      "execution_count": 3,
      "outputs": []
    },
    {
      "cell_type": "code",
      "source": [
        "# Creating Spark session\n",
        "spark = SparkSession.builder \\\n",
        "    .appName(\"Read Parquet from Azure Blob Storage\") \\\n",
        "    .config(f\"spark.hadoop.fs.azure.account.key.{storage_account_name}.blob.core.windows.net\", storage_account_key) \\\n",
        "    .config(\"spark.jars.packages\", \"org.apache.hadoop:hadoop-azure:3.3.2,com.microsoft.azure:azure-storage:8.6.6\") \\\n",
        "    .config(\"spark.driver.memory\", \"8g\") \\\n",
        "    .getOrCreate()\n",
        "\n",
        "# Remove garbage error texts\n",
        "spark.sparkContext.setLogLevel(\"ERROR\")"
      ],
      "metadata": {
        "id": "cmNla_u8W3XN"
      },
      "execution_count": 4,
      "outputs": []
    },
    {
      "cell_type": "markdown",
      "source": [
        " Analytics Steps\n",
        "\n",
        " 1.Load Parquet Files"
      ],
      "metadata": {
        "id": "tV1TOjO6e3Um"
      }
    },
    {
      "cell_type": "code",
      "source": [
        "#Read the data from main file\n",
        "users_df = spark.read.parquet(\n",
        "    \"wasbs://kaggle-datasets@matthewleffler1.blob.core.windows.net/clean_data/non_list_data\"\n",
        ")"
      ],
      "metadata": {
        "id": "5Xgmyae5YJ-j"
      },
      "execution_count": 10,
      "outputs": []
    },
    {
      "cell_type": "code",
      "source": [
        "#Read the data from main file\n",
        "commits_df = spark.read.parquet(\n",
        "    \"wasbs://kaggle-datasets@matthewleffler1.blob.core.windows.net/clean_data/commit_list_data\"\n",
        ")"
      ],
      "metadata": {
        "id": "kN0xJtqWd7nF"
      },
      "execution_count": 11,
      "outputs": []
    },
    {
      "cell_type": "code",
      "source": [
        "import pandas as pd\n",
        "from pyspark.sql import SparkSession\n",
        "from pyspark.sql.functions import count, coalesce, lit"
      ],
      "metadata": {
        "id": "3yJWPjKgY0Mv"
      },
      "execution_count": 15,
      "outputs": []
    },
    {
      "cell_type": "markdown",
      "source": [
        "2.Aggregate Developer Activity per User"
      ],
      "metadata": {
        "id": "rgfPaVhufG9C"
      }
    },
    {
      "cell_type": "code",
      "source": [
        "commit_counts = commits_df.groupBy(\"committer_id\").agg(count(\"*\").alias(\"commit_count\"))"
      ],
      "metadata": {
        "id": "TuJPc33cfMpD"
      },
      "execution_count": 16,
      "outputs": []
    },
    {
      "cell_type": "markdown",
      "source": [
        "The above code groups all commits by user (committer_id) and counts how many commits each user made. The result is a table with each user's ID and their total number of commits."
      ],
      "metadata": {
        "id": "hFVJy7FPf81j"
      }
    },
    {
      "cell_type": "code",
      "source": [
        "users_with_commits = users_df.join(\n",
        "    commit_counts,\n",
        "    users_df.id == commit_counts.committer_id,\n",
        "    how=\"left\"\n",
        ")"
      ],
      "metadata": {
        "id": "nMwv_X8VgAyO"
      },
      "execution_count": 18,
      "outputs": []
    },
    {
      "cell_type": "markdown",
      "source": [
        "This left joins the users_df with commit_counts, matching id from users with committer_id from commits, and keeps all users even those with no commits."
      ],
      "metadata": {
        "id": "VQSAd04dgfc_"
      }
    },
    {
      "cell_type": "code",
      "source": [
        "users_with_commits = users_with_commits.withColumn(\n",
        "    \"commit_count\",\n",
        "    coalesce(\"commit_count\", lit(0))\n",
        ")"
      ],
      "metadata": {
        "id": "pHnaou5lgnNh"
      },
      "execution_count": 20,
      "outputs": []
    },
    {
      "cell_type": "markdown",
      "source": [
        "Some users did not have any commits, so NaN appears. We replace it with 0."
      ],
      "metadata": {
        "id": "byvhRo8qhXlb"
      }
    },
    {
      "cell_type": "markdown",
      "source": [
        "3. Compute Developer Activity Score"
      ],
      "metadata": {
        "id": "zMo_yfPpiGGP"
      }
    },
    {
      "cell_type": "code",
      "source": [
        "users_with_score = users_with_commits.withColumn(\n",
        "    \"activity_score\",\n",
        "    3 * col(\"commit_count\") +\n",
        "    2 * col(\"public_repos\") +\n",
        "    1 * col(\"followers\") +\n",
        "    0.5 * col(\"public_gists\")\n",
        ")"
      ],
      "metadata": {
        "id": "yZeX7MUDhZ-B"
      },
      "execution_count": 22,
      "outputs": []
    },
    {
      "cell_type": "markdown",
      "source": [
        "This creates a new column called activity_score by:\n",
        "\n",
        "Giving more importance to commits (×3)\n",
        "\n",
        "Adding weight to public repos (×2), followers (×1), and gists (×0.5)\n",
        "\n",
        "It uses col(\"...\") to reference columns in PySpark."
      ],
      "metadata": {
        "id": "VeNBK7KTh3i-"
      }
    },
    {
      "cell_type": "markdown",
      "source": [
        "Fix: Normalize Company Names"
      ],
      "metadata": {
        "id": "dquG6DVAmR0h"
      }
    },
    {
      "cell_type": "code",
      "source": [
        "from pyspark.sql.functions import lower, trim, regexp_replace\n",
        "\n",
        "# Clean company names: lowercase, remove '@', strip spaces\n",
        "users_normalized = users_with_score.withColumn(\n",
        "    \"company_cleaned\",\n",
        "    trim(lower(regexp_replace(col(\"company\"), \"@\", \"\")))\n",
        ").withColumn(\n",
        "    \"location\",\n",
        "    trim(lower(col(\"location\")))\n",
        ")"
      ],
      "metadata": {
        "id": "oZ1wnKahmIa9"
      },
      "execution_count": 83,
      "outputs": []
    },
    {
      "cell_type": "markdown",
      "source": [
        "This will convert:\n",
        "\n",
        "\"@Microsoft \" → \"microsoft\"\n",
        "\n",
        "\" Microsoft\" → \"microsoft\"\n",
        "\n",
        "\"MICROSOFT\" → \"microsoft\""
      ],
      "metadata": {
        "id": "eXRNs4AimMru"
      }
    },
    {
      "cell_type": "code",
      "source": [
        "users_filtered = users_normalized.filter(\n",
        "    col(\"company_cleaned\").isNotNull() &\n",
        "    (col(\"company_cleaned\") != \"\") &\n",
        "    (col(\"company_cleaned\") != \"none\") &\n",
        "    col(\"location\").isNotNull() &\n",
        "    (col(\"location\") != \"\") &\n",
        "    (col(\"location\") != \"none\")\n",
        ")"
      ],
      "metadata": {
        "id": "bIML9sWKku2v"
      },
      "execution_count": 91,
      "outputs": []
    },
    {
      "cell_type": "markdown",
      "source": [
        "Filter the Null company values"
      ],
      "metadata": {
        "id": "RISlqwaEk5Ct"
      }
    },
    {
      "cell_type": "markdown",
      "source": [
        "5.Aggregate by Company"
      ],
      "metadata": {
        "id": "rzF2UPqBiBpP"
      }
    },
    {
      "cell_type": "code",
      "source": [
        "company_scores = users_filtered.groupBy(\"company_cleaned\").sum(\"activity_score\") \\\n",
        "    .withColumnRenamed(\"sum(activity_score)\", \"activity_score\")\n"
      ],
      "metadata": {
        "id": "_5q3h3FHheb3"
      },
      "execution_count": 92,
      "outputs": []
    },
    {
      "cell_type": "markdown",
      "source": [
        " This groups all users by company and sums their activity scores."
      ],
      "metadata": {
        "id": "58HluSi1i2A5"
      }
    },
    {
      "cell_type": "code",
      "source": [
        "from pyspark.sql.window import Window\n",
        "from pyspark.sql.functions import count, row_number\n",
        "\n",
        "location_counts = users_filtered.groupBy(\"company_cleaned\", \"location\").agg(count(\"*\").alias(\"count\"))\n",
        "\n",
        "# Rank locations per company\n",
        "windowSpec = Window.partitionBy(\"company_cleaned\").orderBy(col(\"count\").desc())\n",
        "\n",
        "top_locations = location_counts.withColumn(\"rank\", row_number().over(windowSpec)) \\\n",
        "    .filter(col(\"rank\") == 1) \\\n",
        "    .drop(\"count\", \"rank\")\n"
      ],
      "metadata": {
        "id": "5xJv9eOC7JWm"
      },
      "execution_count": 93,
      "outputs": []
    },
    {
      "cell_type": "markdown",
      "source": [
        "This just renames the column to keep it clean."
      ],
      "metadata": {
        "id": "jZTbgRNrjDvZ"
      }
    },
    {
      "cell_type": "code",
      "source": [
        "top_20 = company_scores.orderBy(col(\"activity_score\").desc()).limit(20)"
      ],
      "metadata": {
        "id": "d04NCJA4ip0v"
      },
      "execution_count": 94,
      "outputs": []
    },
    {
      "cell_type": "code",
      "source": [
        "top_20_with_location = top_20.join(top_locations, on=\"company_cleaned\", how=\"left\")"
      ],
      "metadata": {
        "id": "3M_xCbse7ryl"
      },
      "execution_count": 95,
      "outputs": []
    },
    {
      "cell_type": "markdown",
      "source": [
        "This sorts companies by total activity and takes the top 200."
      ],
      "metadata": {
        "id": "UyCjYMWVjQkv"
      }
    },
    {
      "cell_type": "code",
      "source": [
        "top_20_with_location.orderBy(col(\"activity_score\").desc()).show(truncate=False)"
      ],
      "metadata": {
        "colab": {
          "base_uri": "https://localhost:8080/"
        },
        "id": "QiEK3U3rjRHZ",
        "outputId": "b02041c4-377a-4147-b116-d382bf0cf303"
      },
      "execution_count": 97,
      "outputs": [
        {
          "output_type": "stream",
          "name": "stdout",
          "text": [
            "+--------------------------+--------------+-----------------+\n",
            "|company_cleaned           |activity_score|location         |\n",
            "+--------------------------+--------------+-----------------+\n",
            "|microsoft                 |581376.5      |redmond, wa      |\n",
            "|cocoapods                 |508770.0      |the astral cloud |\n",
            "|google                    |435740.0      |mountain view, ca|\n",
            "|freelance                 |200064.0      |ukraine          |\n",
            "|ibm                       |182773.0      |austin, tx       |\n",
            "|thoughtworks              |178229.0      |bangalore        |\n",
            "|freelancer                |156139.0      |india            |\n",
            "|facebook                  |154310.0      |menlo park, ca   |\n",
            "|student                   |136326.0      |india            |\n",
            "|tencent                   |135076.5      |shenzhen         |\n",
            "|red hat                   |133002.5      |raleigh, nc      |\n",
            "|alibaba                   |120691.0      |hangzhou         |\n",
            "|carnegie mellon university|117617.5      |pittsburgh, pa   |\n",
            "|baidu                     |109994.5      |beijing          |\n",
            "|amazon                    |101364.0      |seattle, wa      |\n",
            "|shopify                   |89659.0       |ottawa           |\n",
            "|andela                    |79836.0       |lagos, nigeria   |\n",
            "|university of washington  |79168.5       |seattle, wa      |\n",
            "|yandex                    |76604.5       |moscow           |\n",
            "|uber                      |75855.0       |san francisco    |\n",
            "+--------------------------+--------------+-----------------+\n",
            "\n"
          ]
        }
      ]
    },
    {
      "cell_type": "code",
      "source": [
        "# Collect top 20 with location\n",
        "top_20_pd = top_20_with_location.orderBy(\"activity_score\", ascending=False).limit(20).toPandas()\n",
        "\n",
        "import matplotlib.pyplot as plt\n",
        "import numpy as np\n",
        "\n",
        "# Add a label that combines company and location\n",
        "top_20_pd[\"label\"] = top_20_pd[\"company_cleaned\"].str.title() + \" (\" + top_20_pd[\"location\"].fillna(\"Unknown\").str.title() + \")\"\n",
        "\n",
        "# Generate random colors\n",
        "colors = np.random.rand(len(top_20_pd), 3)\n",
        "\n",
        "# Plot\n",
        "plt.figure(figsize=(12, 8))\n",
        "plt.barh(top_20_pd[\"label\"], top_20_pd[\"activity_score\"], color=colors)\n",
        "plt.xlabel(\"Activity Score\")\n",
        "plt.title(\"Top 20 Companies by Developer Activity (with Location)\")\n",
        "plt.gca().invert_yaxis()\n",
        "plt.tight_layout()\n",
        "plt.show()\n"
      ],
      "metadata": {
        "colab": {
          "base_uri": "https://localhost:8080/",
          "height": 807
        },
        "id": "6lXyipk3kaQK",
        "outputId": "e9146938-c9a9-4287-f985-9b42290d6869"
      },
      "execution_count": 99,
      "outputs": [
        {
          "output_type": "display_data",
          "data": {
            "text/plain": [
              "<Figure size 1200x800 with 1 Axes>"
            ],
            "image/png": "[encoded data removed]"
          },
          "metadata": {}
        }
      ]
    },
    {
      "cell_type": "code",
      "source": [],
      "metadata": {
        "id": "9tX8TJhOCzGL"
      },
      "execution_count": null,
      "outputs": []
    },
    {
      "cell_type": "markdown",
      "source": [
        "## SQL query for above steps\n",
        "-- 1. Count commits per user\n",
        "\n",
        "WITH commit_counts AS (\n",
        "\n",
        "  SELECT\n",
        "\n",
        "    committer_id,\n",
        "\n",
        "    COUNT(*) AS commit_count\n",
        "\n",
        "  FROM commits\n",
        "\n",
        "  GROUP BY committer_id\n",
        "\n",
        "),\n",
        "\n",
        "\n",
        "-- 2. Join with users and compute activity score\n",
        "\n",
        "users_enriched AS (\n",
        "\n",
        "  SELECT\n",
        "\n",
        "    LOWER(TRIM(REPLACE(u.company, '@', ''))) AS company_cleaned,\n",
        "\n",
        "    LOWER(TRIM(u.location)) AS location,\n",
        "\n",
        "    COALESCE(c.commit_count, 0) AS commit_count,\n",
        "    \n",
        "    u.public_repos,\n",
        "\n",
        "    u.followers,\n",
        "\n",
        "    u.public_gists,\n",
        "\n",
        "    (\n",
        "\n",
        "      3 * COALESCE(c.commit_count, 0) +\n",
        "\n",
        "      2 * u.public_repos +\n",
        "\n",
        "      1 * u.followers +\n",
        "\n",
        "      0.5 * u.public_gists\n",
        "\n",
        "    ) AS activity_score\n",
        "\n",
        "  FROM users_with_score u\n",
        "\n",
        "  LEFT JOIN commit_counts c ON u.id = c.committer_id\n",
        "\n",
        "  WHERE u.company IS NOT NULL AND TRIM(LOWER(u.company)) NOT IN ('', 'none')\n",
        "\n",
        "),\n",
        "\n",
        "\n",
        "-- 3. Sum activity score per company\n",
        "\n",
        "company_scores AS (\n",
        "\n",
        "  SELECT\n",
        "\n",
        "    company_cleaned,\n",
        "\n",
        "    SUM(activity_score) AS total_activity_score\n",
        "\n",
        "  FROM users_enriched\n",
        "\n",
        "  GROUP BY company_cleaned\n",
        "\n",
        "),\n",
        "\n",
        "-- 4. Find most common location per company\n",
        "\n",
        "location_mode AS (\n",
        "\n",
        "  SELECT\n",
        "\n",
        "    company_cleaned,\n",
        "\n",
        "    location,\n",
        "\n",
        "    ROW_NUMBER() OVER (PARTITION BY company_cleaned ORDER BY COUNT(*) DESC) AS\n",
        "    row_num\n",
        "\n",
        "  FROM users_enriched\n",
        "\n",
        "  WHERE location IS NOT NULL AND location != ''\n",
        "\n",
        "  GROUP BY company_cleaned, location\n",
        "\n",
        ")\n",
        "\n",
        "-- 5. Final output: top 20 companies with top location\n",
        "\n",
        "SELECT\n",
        "\n",
        "  cs.company_cleaned AS company,\n",
        "\n",
        "  cs.total_activity_score,\n",
        "\n",
        "  lm.location\n",
        "\n",
        "FROM\n",
        "\n",
        "  company_scores cs\n",
        "\n",
        "LEFT JOIN\n",
        "\n",
        "  location_mode lm\n",
        "\n",
        "  ON cs.company_cleaned = lm.company_cleaned AND lm.row_num = 1\n",
        "\n",
        "ORDER BY\n",
        "\n",
        "  cs.total_activity_score DESC\n",
        "  \n",
        "LIMIT 20;\n"
      ],
      "metadata": {
        "id": "BNHJTAO4C2Ub"
      }
    },
    {
      "cell_type": "code",
      "source": [
        "top_500 = company_scores.orderBy(col(\"activity_score\").desc()).limit(500)"
      ],
      "metadata": {
        "id": "vHX-Y6hZC6vs"
      },
      "execution_count": 130,
      "outputs": []
    },
    {
      "cell_type": "code",
      "source": [
        "top_500_with_location = top_500.join(top_locations, on=\"company_cleaned\", how=\"left\")\n",
        "print(\"Row count:\", top_500_with_location.count())  # ← should print 500"
      ],
      "metadata": {
        "colab": {
          "base_uri": "https://localhost:8080/"
        },
        "id": "n7vBI3UXFUp-",
        "outputId": "a2d526b2-7eae-4f63-b35f-4af25575e752"
      },
      "execution_count": 133,
      "outputs": [
        {
          "output_type": "stream",
          "name": "stdout",
          "text": [
            "Row count: 500\n"
          ]
        }
      ]
    },
    {
      "cell_type": "markdown",
      "source": [
        "Download Top 500 companies data in a Excel file"
      ],
      "metadata": {
        "id": "-0JAFFbgN9VC"
      }
    },
    {
      "cell_type": "code",
      "source": [
        "# Install Excel writer\n",
        "!pip install -q openpyxl\n",
        "\n",
        "# Convert Spark DataFrame to Pandas\n",
        "top_500_pd = top_500_with_location.toPandas()\n",
        "\n",
        "# Save to Excel file\n",
        "file_name = \"top_500_companies_activities.xlsx\"\n",
        "top_500_pd.to_excel(file_name, index=False, engine=\"openpyxl\")\n",
        "\n",
        "# Download the file to your machine\n",
        "from google.colab import files\n",
        "files.download(file_name)\n"
      ],
      "metadata": {
        "colab": {
          "base_uri": "https://localhost:8080/",
          "height": 17
        },
        "id": "6uzRXRDJUHAv",
        "outputId": "9677cba8-a6b4-492c-d125-8f6de8d64e50"
      },
      "execution_count": 134,
      "outputs": [
        {
          "output_type": "display_data",
          "data": {
            "text/plain": [
              "<IPython.core.display.Javascript object>"
            ],
            "application/javascript": [
              "\n",
              "    async function download(id, filename, size) {\n",
              "      if (!google.colab.kernel.accessAllowed) {\n",
              "        return;\n",
              "      }\n",
              "      const div = document.createElement('div');\n",
              "      const label = document.createElement('label');\n",
              "      label.textContent = `Downloading \"${filename}\": `;\n",
              "      div.appendChild(label);\n",
              "      const progress = document.createElement('progress');\n",
              "      progress.max = size;\n",
              "      div.appendChild(progress);\n",
              "      document.body.appendChild(div);\n",
              "\n",
              "      const buffers = [];\n",
              "      let downloaded = 0;\n",
              "\n",
              "      const channel = await google.colab.kernel.comms.open(id);\n",
              "      // Send a message to notify the kernel that we're ready.\n",
              "      channel.send({})\n",
              "\n",
              "      for await (const message of channel.messages) {\n",
              "        // Send a message to notify the kernel that we're ready.\n",
              "        channel.send({})\n",
              "        if (message.buffers) {\n",
              "          for (const buffer of message.buffers) {\n",
              "            buffers.push(buffer);\n",
              "            downloaded += buffer.byteLength;\n",
              "            progress.value = downloaded;\n",
              "          }\n",
              "        }\n",
              "      }\n",
              "      const blob = new Blob(buffers, {type: 'application/binary'});\n",
              "      const a = document.createElement('a');\n",
              "      a.href = window.URL.createObjectURL(blob);\n",
              "      a.download = filename;\n",
              "      div.appendChild(a);\n",
              "      a.click();\n",
              "      div.remove();\n",
              "    }\n",
              "  "
            ]
          },
          "metadata": {}
        },
        {
          "output_type": "display_data",
          "data": {
            "text/plain": [
              "<IPython.core.display.Javascript object>"
            ],
            "application/javascript": [
              "download(\"download_2503d52e-b437-4077-9b1a-f597170c5e72\", \"top_500_companies_activities.xlsx\", 19248)"
            ]
          },
          "metadata": {}
        }
      ]
    }
  ]
}