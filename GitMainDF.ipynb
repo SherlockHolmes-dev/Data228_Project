{
  "nbformat": 4,
  "nbformat_minor": 0,
  "metadata": {
    "colab": {
      "provenance": []
    },
    "kernelspec": {
      "name": "python3",
      "display_name": "Python 3"
    },
    "language_info": {
      "name": "python"
    }
  },
  "cells": [
    {
      "cell_type": "code",
      "execution_count": 2,
      "metadata": {
        "colab": {
          "base_uri": "https://localhost:8080/"
        },
        "id": "MK6CZeX9vMV-",
        "outputId": "71716356-0320-477a-d0e7-190ab1161a47"
      },
      "outputs": [
        {
          "output_type": "stream",
          "name": "stdout",
          "text": [
            "Requirement already satisfied: pyspark in /usr/local/lib/python3.11/dist-packages (3.5.5)\n",
            "Requirement already satisfied: py4j==0.10.9.7 in /usr/local/lib/python3.11/dist-packages (from pyspark) (0.10.9.7)\n",
            "Collecting python-dotenv\n",
            "  Downloading python_dotenv-1.1.0-py3-none-any.whl.metadata (24 kB)\n",
            "Downloading python_dotenv-1.1.0-py3-none-any.whl (20 kB)\n",
            "Installing collected packages: python-dotenv\n",
            "Successfully installed python-dotenv-1.1.0\n"
          ]
        }
      ],
      "source": [
        "!pip install pyspark\n",
        "!pip install python-dotenv"
      ]
    },
    {
      "cell_type": "code",
      "source": [
        "from pyspark.sql import SparkSession\n",
        "from dotenv import load_dotenv\n",
        "import os"
      ],
      "metadata": {
        "id": "eqm2htZ5vSe8"
      },
      "execution_count": 3,
      "outputs": []
    },
    {
      "cell_type": "code",
      "source": [
        "# Initialize variables\n",
        "from google.colab import userdata\n",
        "\n",
        "load_dotenv(\"azure_connection.env\")\n",
        "\n",
        "storage_account_name = userdata.get('AZURE_ACCOUNT_NAME')\n",
        "storage_account_key = userdata.get('AZURE_STORAGE_KEY')\n",
        "storage_container_name = \"kaggle-datasets\"\n",
        "parquet_blob_name = \"github-dataset-full.parquet\""
      ],
      "metadata": {
        "id": "mHFaNuAOvYtt"
      },
      "execution_count": 4,
      "outputs": []
    },
    {
      "cell_type": "code",
      "source": [
        "# Creating Spark session\n",
        "spark = SparkSession.builder \\\n",
        "    .appName(\"Read Parquet from Azure Blob Storage\") \\\n",
        "    .config(f\"spark.hadoop.fs.azure.account.key.{storage_account_name}.blob.core.windows.net\", storage_account_key) \\\n",
        "    .config(\"spark.jars.packages\", \"org.apache.hadoop:hadoop-azure:3.3.2,com.microsoft.azure:azure-storage:8.6.6\") \\\n",
        "    .getOrCreate()\n",
        "\n",
        "# Remove garbage error texts\n",
        "spark.sparkContext.setLogLevel(\"ERROR\")"
      ],
      "metadata": {
        "id": "GJB9Ob4nvrDF"
      },
      "execution_count": 5,
      "outputs": []
    },
    {
      "cell_type": "code",
      "source": [
        "# Step 3: (Optional) Set Hadoop configurations if not already set during builder\n",
        "spark.conf.set(\n",
        "    f\"fs.azure.account.key.{storage_account_name}.blob.core.windows.net\",\n",
        "    storage_account_key\n",
        ")"
      ],
      "metadata": {
        "id": "iJc1gH3DwTEb"
      },
      "execution_count": 6,
      "outputs": []
    },
    {
      "cell_type": "code",
      "source": [
        "# Step 4: Define path to the Parquet\n",
        "parquet_path = f\"wasbs://{storage_container_name}@{storage_account_name}.blob.core.windows.net/{parquet_blob_name}\""
      ],
      "metadata": {
        "id": "fvAQzov2wU5i"
      },
      "execution_count": 13,
      "outputs": []
    },
    {
      "cell_type": "code",
      "source": [
        "from pyspark.sql.types import StructType, StructField, StringType, LongType, BooleanType, ArrayType\n",
        "\n",
        "schema = StructType([\n",
        "    StructField(\"bio\", StringType(), True),\n",
        "    StructField(\"blog\", StringType(), True),\n",
        "    StructField(\"commit_list\", ArrayType(\n",
        "        StructType([\n",
        "            StructField(\"author_id\", LongType(), True),\n",
        "            StructField(\"commit_at\", StringType(), True),\n",
        "            StructField(\"committer_id\", LongType(), True),\n",
        "            StructField(\"generate_at\", StringType(), True),\n",
        "            StructField(\"message\", StringType(), True),\n",
        "            StructField(\"repo_description\", StringType(), True),\n",
        "            StructField(\"repo_id\", LongType(), True),\n",
        "            StructField(\"repo_name\", StringType(), True),\n",
        "            StructField(\"repo_owner_id\", LongType(), True)\n",
        "        ])\n",
        "    ), True),\n",
        "    StructField(\"commits\", LongType(), True),\n",
        "    StructField(\"company\", StringType(), True),\n",
        "    StructField(\"created_at\", StringType(), True),\n",
        "    StructField(\"email\", StringType(), True),\n",
        "    StructField(\"follower_list\", ArrayType(LongType(), True), True),\n",
        "    StructField(\"followers\", LongType(), True),\n",
        "    StructField(\"following\", LongType(), True),\n",
        "    StructField(\"following_list\", ArrayType(LongType(), True), True),\n",
        "    StructField(\"hirable\", BooleanType(), True),\n",
        "    StructField(\"id\", LongType(), True),\n",
        "    StructField(\"is_suspicious\", BooleanType(), True),\n",
        "    StructField(\"location\", StringType(), True),\n",
        "    StructField(\"login\", StringType(), True),\n",
        "    StructField(\"name\", StringType(), True),\n",
        "    StructField(\"public_gists\", LongType(), True),\n",
        "    StructField(\"public_repos\", LongType(), True),\n",
        "    StructField(\"repo_list\", ArrayType(\n",
        "        StructType([\n",
        "            StructField(\"created_at\", StringType(), True),\n",
        "            StructField(\"default_branch\", StringType(), True),\n",
        "            StructField(\"description\", StringType(), True),\n",
        "            StructField(\"fork\", BooleanType(), True),\n",
        "            StructField(\"forks_count\", LongType(), True),\n",
        "            StructField(\"full_name\", StringType(), True),\n",
        "            StructField(\"has_wiki\", BooleanType(), True),\n",
        "            StructField(\"id\", LongType(), True),\n",
        "            StructField(\"language\", StringType(), True),\n",
        "            StructField(\"license\", StringType(), True),\n",
        "            StructField(\"open_issues\", LongType(), True),\n",
        "            StructField(\"owner_id\", LongType(), True),\n",
        "            StructField(\"pushed_at\", StringType(), True),\n",
        "            StructField(\"size\", LongType(), True),\n",
        "            StructField(\"stargazers_count\", LongType(), True),\n",
        "            StructField(\"updated_at\", StringType(), True)\n",
        "        ])\n",
        "    ), True),\n",
        "    StructField(\"type\", StringType(), True),\n",
        "    StructField(\"updated_at\", StringType(), True)\n",
        "])"
      ],
      "metadata": {
        "id": "9Y6i341jwYwT"
      },
      "execution_count": 14,
      "outputs": []
    },
    {
      "cell_type": "code",
      "source": [
        "\n",
        "# Step 5: Read the Parquet file\n",
        "df = spark.read.schema(schema).parquet(parquet_path)"
      ],
      "metadata": {
        "id": "qmnk2bOvweqd"
      },
      "execution_count": 15,
      "outputs": []
    },
    {
      "cell_type": "code",
      "source": [
        "# Step 6: Preview\n",
        "df.printSchema()"
      ],
      "metadata": {
        "colab": {
          "base_uri": "https://localhost:8080/"
        },
        "id": "GWoT-xl-whHi",
        "outputId": "dc95fa0b-deaa-40fb-ce5b-3253f34b146c"
      },
      "execution_count": 11,
      "outputs": [
        {
          "output_type": "stream",
          "name": "stdout",
          "text": [
            "root\n",
            " |-- bio: string (nullable = true)\n",
            " |-- blog: string (nullable = true)\n",
            " |-- commit_list: array (nullable = true)\n",
            " |    |-- element: struct (containsNull = true)\n",
            " |    |    |-- author_id: long (nullable = true)\n",
            " |    |    |-- commit_at: string (nullable = true)\n",
            " |    |    |-- committer_id: long (nullable = true)\n",
            " |    |    |-- generate_at: string (nullable = true)\n",
            " |    |    |-- message: string (nullable = true)\n",
            " |    |    |-- repo_description: string (nullable = true)\n",
            " |    |    |-- repo_id: long (nullable = true)\n",
            " |    |    |-- repo_name: string (nullable = true)\n",
            " |    |    |-- repo_owner_id: long (nullable = true)\n",
            " |-- commits: long (nullable = true)\n",
            " |-- company: string (nullable = true)\n",
            " |-- created_at: string (nullable = true)\n",
            " |-- email: string (nullable = true)\n",
            " |-- follower_list: array (nullable = true)\n",
            " |    |-- element: long (containsNull = true)\n",
            " |-- followers: long (nullable = true)\n",
            " |-- following: long (nullable = true)\n",
            " |-- following_list: array (nullable = true)\n",
            " |    |-- element: long (containsNull = true)\n",
            " |-- hirable: boolean (nullable = true)\n",
            " |-- id: long (nullable = true)\n",
            " |-- is_suspicious: boolean (nullable = true)\n",
            " |-- location: string (nullable = true)\n",
            " |-- login: string (nullable = true)\n",
            " |-- name: string (nullable = true)\n",
            " |-- public_gists: long (nullable = true)\n",
            " |-- public_repos: long (nullable = true)\n",
            " |-- repo_list: array (nullable = true)\n",
            " |    |-- element: struct (containsNull = true)\n",
            " |    |    |-- created_at: string (nullable = true)\n",
            " |    |    |-- default_branch: string (nullable = true)\n",
            " |    |    |-- description: string (nullable = true)\n",
            " |    |    |-- fork: boolean (nullable = true)\n",
            " |    |    |-- forks_count: long (nullable = true)\n",
            " |    |    |-- full_name: string (nullable = true)\n",
            " |    |    |-- has_wiki: boolean (nullable = true)\n",
            " |    |    |-- id: long (nullable = true)\n",
            " |    |    |-- language: string (nullable = true)\n",
            " |    |    |-- license: string (nullable = true)\n",
            " |    |    |-- open_issues: long (nullable = true)\n",
            " |    |    |-- owner_id: long (nullable = true)\n",
            " |    |    |-- pushed_at: string (nullable = true)\n",
            " |    |    |-- size: long (nullable = true)\n",
            " |    |    |-- stargazers_count: long (nullable = true)\n",
            " |    |    |-- updated_at: string (nullable = true)\n",
            " |-- type: string (nullable = true)\n",
            " |-- updated_at: string (nullable = true)\n",
            "\n"
          ]
        }
      ]
    },
    {
      "cell_type": "code",
      "source": [
        "df.show(10)"
      ],
      "metadata": {
        "colab": {
          "base_uri": "https://localhost:8080/"
        },
        "id": "xft3Uu3YwhxV",
        "outputId": "cdb47936-7df3-4f7d-d9a2-2aca692c1420"
      },
      "execution_count": 16,
      "outputs": [
        {
          "output_type": "stream",
          "name": "stdout",
          "text": [
            "+----+----------------+--------------------+-------+----------+-------------------+-----+--------------------+---------+---------+--------------------+-------+--------+-------------+--------+--------------------+-----------+------------+------------+--------------------+----+-------------------+\n",
            "| bio|            blog|         commit_list|commits|   company|         created_at|email|       follower_list|followers|following|      following_list|hirable|      id|is_suspicious|location|               login|       name|public_gists|public_repos|           repo_list|type|         updated_at|\n",
            "+----+----------------+--------------------+-------+----------+-------------------+-----+--------------------+---------+---------+--------------------+-------+--------+-------------+--------+--------------------+-----------+------------+------------+--------------------+----+-------------------+\n",
            "|NULL|                |                NULL|   NULL|      NULL|2015-09-20 19:52:29| NULL|                NULL|        0|        0|                NULL|   NULL|14413602|         true|    NULL|            llciq992|       NULL|           0|           0|                NULL|User|2016-02-28 10:26:34|\n",
            "|NULL|                |                  []|      0|      NULL|2014-10-05 10:46:27| NULL|                  []|        0|        0|                  []|   NULL| 9025223|        false|    NULL|           cymssss45|       NULL|           0|           0|                  []|User|2018-01-11 20:46:57|\n",
            "|NULL|                |                NULL|   NULL|      NULL|2016-03-03 22:29:01| NULL|                NULL|        0|        0|                NULL|   NULL|17626302|         true|    NULL|borders1457044141...|       NULL|           0|           0|                NULL|User|2016-03-03 22:29:02|\n",
            "|NULL|                |                  []|      0|      NULL|2016-01-24 06:07:38| NULL|                  []|        0|        0|                  []|   NULL|16860856|        false|    NULL|            chiaotzu|       NULL|           0|           1|[{2016-01-24 06:1...|User|2016-01-24 06:07:38|\n",
            "|NULL|                |[{15806633, 2016-...|      9|      NULL|2015-11-11 21:07:45| NULL|                  []|        0|        0|                  []|   NULL|15806633|        false|    NULL|          gabriel793|       NULL|           1|          13|[{2015-11-26 00:3...|User|2017-01-20 23:09:13|\n",
            "|NULL|                |[{1151203, 2016-0...|      1|      NULL|2011-10-25 16:45:52| NULL|                  []|        0|        0|                  []|   NULL| 1151203|        false|    NULL|              Biagio|       NULL|           0|           2|[{2016-07-03 12:4...|User|2017-10-12 00:30:45|\n",
            "| CTO|http://canya.com|[{141210, 2016-05...|     59|CanYa Inc.|2009-10-18 08:47:51| NULL|[45214, 2398264, ...|       33|      146|[574, 613, 630, 2...|   true|  141210|        false|  Málaga|           jlsuarezs|Juan Suarez|          69|         473|[{2016-10-06 20:0...|User|2018-05-02 00:25:38|\n",
            "|NULL|                |                  []|      0|      NULL|2016-01-13 14:30:20| NULL|                  []|        0|        0|                  []|   NULL|16686692|        false|    NULL|             szp9177|       NULL|           0|           1|[{2016-01-13 15:0...|User|2016-12-07 06:54:37|\n",
            "|NULL|                |                NULL|   NULL|      NULL|2016-05-01 16:34:22| NULL|                NULL|        0|        0|                NULL|   NULL|18952046|         true|    NULL|              ixoxek|       NULL|           0|           1|                NULL|User|2016-05-02 00:30:43|\n",
            "|NULL|                |                  []|      0|      NULL|2014-03-12 18:10:21| NULL|                  []|        0|        0|                  []|   NULL| 6932921|        false|    NULL|         joellerosen|       NULL|           0|           0|                  []|User|2016-02-27 14:40:43|\n",
            "+----+----------------+--------------------+-------+----------+-------------------+-----+--------------------+---------+---------+--------------------+-------+--------+-------------+--------+--------------------+-----------+------------+------------+--------------------+----+-------------------+\n",
            "only showing top 10 rows\n",
            "\n"
          ]
        }
      ]
    },
    {
      "cell_type": "code",
      "source": [
        "df.count()"
      ],
      "metadata": {
        "colab": {
          "base_uri": "https://localhost:8080/"
        },
        "id": "dc7Xb_Lqy1BM",
        "outputId": "efcd7da1-5a47-41f4-c6fb-ef4433267840"
      },
      "execution_count": 14,
      "outputs": [
        {
          "output_type": "execute_result",
          "data": {
            "text/plain": [
              "10649574"
            ]
          },
          "metadata": {},
          "execution_count": 14
        }
      ]
    },
    {
      "cell_type": "code",
      "source": [
        "#Dropping nested list columns, these will be separated objects\n",
        "columns_to_drop = [\n",
        "    \"commit_list\",\n",
        "    \"repo_list\",\n",
        "    \"follower_list\",\n",
        "    \"following_list\"\n",
        "]\n",
        "\n",
        "GitMainDF = df.drop(*columns_to_drop)\n",
        "\n",
        "GitMainDF.printSchema()\n",
        "GitMainDF.show(10)"
      ],
      "metadata": {
        "colab": {
          "base_uri": "https://localhost:8080/"
        },
        "id": "EmAE4GqD3jXY",
        "outputId": "be9e6929-24eb-4513-bbbe-8ac9db136a75"
      },
      "execution_count": 17,
      "outputs": [
        {
          "output_type": "stream",
          "name": "stdout",
          "text": [
            "root\n",
            " |-- bio: string (nullable = true)\n",
            " |-- blog: string (nullable = true)\n",
            " |-- commits: long (nullable = true)\n",
            " |-- company: string (nullable = true)\n",
            " |-- created_at: string (nullable = true)\n",
            " |-- email: string (nullable = true)\n",
            " |-- followers: long (nullable = true)\n",
            " |-- following: long (nullable = true)\n",
            " |-- hirable: boolean (nullable = true)\n",
            " |-- id: long (nullable = true)\n",
            " |-- is_suspicious: boolean (nullable = true)\n",
            " |-- location: string (nullable = true)\n",
            " |-- login: string (nullable = true)\n",
            " |-- name: string (nullable = true)\n",
            " |-- public_gists: long (nullable = true)\n",
            " |-- public_repos: long (nullable = true)\n",
            " |-- type: string (nullable = true)\n",
            " |-- updated_at: string (nullable = true)\n",
            "\n",
            "+----+----------------+-------+----------+-------------------+-----+---------+---------+-------+--------+-------------+--------+--------------------+-----------+------------+------------+----+-------------------+\n",
            "| bio|            blog|commits|   company|         created_at|email|followers|following|hirable|      id|is_suspicious|location|               login|       name|public_gists|public_repos|type|         updated_at|\n",
            "+----+----------------+-------+----------+-------------------+-----+---------+---------+-------+--------+-------------+--------+--------------------+-----------+------------+------------+----+-------------------+\n",
            "|NULL|                |   NULL|      NULL|2015-09-20 19:52:29| NULL|        0|        0|   NULL|14413602|         true|    NULL|            llciq992|       NULL|           0|           0|User|2016-02-28 10:26:34|\n",
            "|NULL|                |      0|      NULL|2014-10-05 10:46:27| NULL|        0|        0|   NULL| 9025223|        false|    NULL|           cymssss45|       NULL|           0|           0|User|2018-01-11 20:46:57|\n",
            "|NULL|                |   NULL|      NULL|2016-03-03 22:29:01| NULL|        0|        0|   NULL|17626302|         true|    NULL|borders1457044141...|       NULL|           0|           0|User|2016-03-03 22:29:02|\n",
            "|NULL|                |      0|      NULL|2016-01-24 06:07:38| NULL|        0|        0|   NULL|16860856|        false|    NULL|            chiaotzu|       NULL|           0|           1|User|2016-01-24 06:07:38|\n",
            "|NULL|                |      9|      NULL|2015-11-11 21:07:45| NULL|        0|        0|   NULL|15806633|        false|    NULL|          gabriel793|       NULL|           1|          13|User|2017-01-20 23:09:13|\n",
            "|NULL|                |      1|      NULL|2011-10-25 16:45:52| NULL|        0|        0|   NULL| 1151203|        false|    NULL|              Biagio|       NULL|           0|           2|User|2017-10-12 00:30:45|\n",
            "| CTO|http://canya.com|     59|CanYa Inc.|2009-10-18 08:47:51| NULL|       33|      146|   true|  141210|        false|  Málaga|           jlsuarezs|Juan Suarez|          69|         473|User|2018-05-02 00:25:38|\n",
            "|NULL|                |      0|      NULL|2016-01-13 14:30:20| NULL|        0|        0|   NULL|16686692|        false|    NULL|             szp9177|       NULL|           0|           1|User|2016-12-07 06:54:37|\n",
            "|NULL|                |   NULL|      NULL|2016-05-01 16:34:22| NULL|        0|        0|   NULL|18952046|         true|    NULL|              ixoxek|       NULL|           0|           1|User|2016-05-02 00:30:43|\n",
            "|NULL|                |      0|      NULL|2014-03-12 18:10:21| NULL|        0|        0|   NULL| 6932921|        false|    NULL|         joellerosen|       NULL|           0|           0|User|2016-02-27 14:40:43|\n",
            "+----+----------------+-------+----------+-------------------+-----+---------+---------+-------+--------+-------------+--------+--------------------+-----------+------------+------------+----+-------------------+\n",
            "only showing top 10 rows\n",
            "\n"
          ]
        }
      ]
    },
    {
      "cell_type": "code",
      "source": [
        "# Casting the datatypes as per sample data validated\n",
        "from pyspark.sql import functions as F\n",
        "from pyspark.sql.types import IntegerType, TimestampType\n",
        "\n",
        "df_casted_GitMain = GitMainDF.select(\n",
        "    F.col(\"hirable\").cast(\"boolean\"),\n",
        "    F.col(\"public_repos\").cast(\"int\"),\n",
        "    F.col(\"is_suspicious\").cast(\"boolean\"),\n",
        "    F.col(\"updated_at\").cast(\"timestamp\"),\n",
        "    F.col(\"id\").cast(\"long\"),\n",
        "    F.col(\"blog\").cast(\"string\"),\n",
        "    F.col(\"followers\").cast(\"long\"),\n",
        "    F.col(\"location\").cast(\"string\"),\n",
        "    F.col(\"type\").cast(\"string\"),\n",
        "    F.col(\"bio\").cast(\"string\"),\n",
        "    F.col(\"commits\").cast(\"long\"),\n",
        "    F.col(\"company\").cast(\"string\"),\n",
        "    F.col(\"public_gists\").cast(\"int\"),\n",
        "    F.col(\"name\").cast(\"string\"),\n",
        "    F.col(\"created_at\").cast(\"timestamp\"),\n",
        "    F.col(\"email\").cast(\"string\"),\n",
        "    F.col(\"following\").cast(\"long\"),\n",
        "    F.col(\"login\").cast(\"string\")\n",
        ")\n",
        "\n",
        "GitMain_Casted_DF = (\n",
        "    df_casted_GitMain\n",
        "    .filter(F.col(\"id\").isNotNull())\n",
        "    .dropDuplicates([\"id\"])\n",
        ")"
      ],
      "metadata": {
        "id": "xroHqLV9AGva"
      },
      "execution_count": 18,
      "outputs": []
    },
    {
      "cell_type": "code",
      "source": [
        "GitMain_Casted_DF.printSchema()"
      ],
      "metadata": {
        "colab": {
          "base_uri": "https://localhost:8080/"
        },
        "collapsed": true,
        "id": "IQCTZEJzAyiN",
        "outputId": "83ec4da8-d2f0-4a0f-8f64-78833b00aeb2"
      },
      "execution_count": 19,
      "outputs": [
        {
          "output_type": "stream",
          "name": "stdout",
          "text": [
            "root\n",
            " |-- hirable: boolean (nullable = true)\n",
            " |-- public_repos: integer (nullable = true)\n",
            " |-- is_suspicious: boolean (nullable = true)\n",
            " |-- updated_at: timestamp (nullable = true)\n",
            " |-- id: long (nullable = true)\n",
            " |-- blog: string (nullable = true)\n",
            " |-- followers: long (nullable = true)\n",
            " |-- location: string (nullable = true)\n",
            " |-- type: string (nullable = true)\n",
            " |-- bio: string (nullable = true)\n",
            " |-- commits: long (nullable = true)\n",
            " |-- company: string (nullable = true)\n",
            " |-- public_gists: integer (nullable = true)\n",
            " |-- name: string (nullable = true)\n",
            " |-- created_at: timestamp (nullable = true)\n",
            " |-- email: string (nullable = true)\n",
            " |-- following: long (nullable = true)\n",
            " |-- login: string (nullable = true)\n",
            "\n"
          ]
        }
      ]
    },
    {
      "cell_type": "code",
      "source": [
        "# Created Parquet file for non-nested fields with overwrite option\n",
        "main_parquet_name = \"github-dataset-main.parquet\"\n",
        "output_parquet_path = f\"wasbs://{storage_container_name}@{storage_account_name}.blob.core.windows.net/{main_parquet_name}\"\n",
        "\n",
        "GitMain_Casted_DF.write.mode(\"overwrite\").parquet(output_parquet_path)"
      ],
      "metadata": {
        "colab": {
          "base_uri": "https://localhost:8080/",
          "height": 176
        },
        "id": "rtPpwDhW5elS",
        "outputId": "7d30d8fd-2c43-4973-ac58-686a9cb560a3"
      },
      "execution_count": 9,
      "outputs": [
        {
          "output_type": "error",
          "ename": "NameError",
          "evalue": "name 'GitMain_Casted_DF' is not defined",
          "traceback": [
            "\u001b[0;31m---------------------------------------------------------------------------\u001b[0m",
            "\u001b[0;31mNameError\u001b[0m                                 Traceback (most recent call last)",
            "\u001b[0;32m<ipython-input-9-f57b26c0658e>\u001b[0m in \u001b[0;36m<cell line: 0>\u001b[0;34m()\u001b[0m\n\u001b[1;32m      3\u001b[0m \u001b[0moutput_parquet_path\u001b[0m \u001b[0;34m=\u001b[0m \u001b[0;34mf\"wasbs://{storage_container_name}@{storage_account_name}.blob.core.windows.net/{main_parquet_name}\"\u001b[0m\u001b[0;34m\u001b[0m\u001b[0;34m\u001b[0m\u001b[0m\n\u001b[1;32m      4\u001b[0m \u001b[0;34m\u001b[0m\u001b[0m\n\u001b[0;32m----> 5\u001b[0;31m \u001b[0mGitMain_Casted_DF\u001b[0m\u001b[0;34m.\u001b[0m\u001b[0mwrite\u001b[0m\u001b[0;34m.\u001b[0m\u001b[0mmode\u001b[0m\u001b[0;34m(\u001b[0m\u001b[0;34m\"overwrite\"\u001b[0m\u001b[0;34m)\u001b[0m\u001b[0;34m.\u001b[0m\u001b[0mparquet\u001b[0m\u001b[0;34m(\u001b[0m\u001b[0moutput_parquet_path\u001b[0m\u001b[0;34m)\u001b[0m\u001b[0;34m\u001b[0m\u001b[0;34m\u001b[0m\u001b[0m\n\u001b[0m",
            "\u001b[0;31mNameError\u001b[0m: name 'GitMain_Casted_DF' is not defined"
          ]
        }
      ]
    },
    {
      "cell_type": "code",
      "source": [
        "#Reading new parque file with sample data\n",
        "\n",
        "from pyspark.sql.types import StructType, StructField, StringType, LongType, IntegerType, BooleanType, TimestampType\n",
        "\n",
        "casted_schema = StructType([\n",
        "    StructField(\"hirable\", BooleanType(), True),\n",
        "    StructField(\"public_repos\", IntegerType(), True),\n",
        "    StructField(\"is_suspicious\", BooleanType(), True),\n",
        "    StructField(\"updated_at\", TimestampType(), True),\n",
        "    StructField(\"id\", LongType(), True),\n",
        "    StructField(\"blog\", StringType(), True),\n",
        "    StructField(\"followers\", LongType(), True),\n",
        "    StructField(\"location\", StringType(), True),\n",
        "    StructField(\"type\", StringType(), True),\n",
        "    StructField(\"bio\", StringType(), True),\n",
        "    StructField(\"commits\", LongType(), True),\n",
        "    StructField(\"company\", StringType(), True),\n",
        "    StructField(\"public_gists\", IntegerType(), True),\n",
        "    StructField(\"name\", StringType(), True),\n",
        "    StructField(\"created_at\", TimestampType(), True),\n",
        "    StructField(\"email\", StringType(), True),\n",
        "    StructField(\"following\", LongType(), True),\n",
        "    StructField(\"login\", StringType(), True)\n",
        "])\n",
        "\n",
        "\n",
        "df_read = spark.read.schema(casted_schema).parquet(output_parquet_path)\n",
        "\n",
        "df_read.printSchema()\n",
        "df_read.show(10)"
      ],
      "metadata": {
        "colab": {
          "base_uri": "https://localhost:8080/"
        },
        "id": "gp4LuynOEHFf",
        "outputId": "dafe9fcb-6e0e-4bef-d17e-0e9a278b4125"
      },
      "execution_count": 20,
      "outputs": [
        {
          "output_type": "stream",
          "name": "stdout",
          "text": [
            "root\n",
            " |-- hirable: boolean (nullable = true)\n",
            " |-- public_repos: integer (nullable = true)\n",
            " |-- is_suspicious: boolean (nullable = true)\n",
            " |-- updated_at: timestamp (nullable = true)\n",
            " |-- id: long (nullable = true)\n",
            " |-- blog: string (nullable = true)\n",
            " |-- followers: long (nullable = true)\n",
            " |-- location: string (nullable = true)\n",
            " |-- type: string (nullable = true)\n",
            " |-- bio: string (nullable = true)\n",
            " |-- commits: long (nullable = true)\n",
            " |-- company: string (nullable = true)\n",
            " |-- public_gists: integer (nullable = true)\n",
            " |-- name: string (nullable = true)\n",
            " |-- created_at: timestamp (nullable = true)\n",
            " |-- email: string (nullable = true)\n",
            " |-- following: long (nullable = true)\n",
            " |-- login: string (nullable = true)\n",
            "\n",
            "+-------+------------+-------------+-------------------+---+--------------------+---------+--------------------+----+--------------------+-------+----------------+------------+-----------------+-------------------+--------------------+---------+---------+\n",
            "|hirable|public_repos|is_suspicious|         updated_at| id|                blog|followers|            location|type|                 bio|commits|         company|public_gists|             name|         created_at|               email|following|    login|\n",
            "+-------+------------+-------------+-------------------+---+--------------------+---------+--------------------+----+--------------------+-------+----------------+------------+-----------------+-------------------+--------------------+---------+---------+\n",
            "|   NULL|          40|        false|2018-07-15 03:46:59| 93|http://twitter.co...|       51|   San Francisco, CA|User|                NULL|    179|            NULL|          44|       Ian Ownbey|2008-01-29 23:13:44|ian.ownbey@coinba...|       60| imownbey|\n",
            "|   NULL|          15|        false|2017-08-14 19:40:04|204|http://www.jasons...|      226|         Orlando, FL|User|                NULL|    530|        Doximity|          23|     Jason Seifer|2008-02-13 06:24:34|  me@jasonseifer.com|       21|  jseifer|\n",
            "|   NULL|          36|        false|2018-07-12 15:32:45|282|http://blog.inter...|       24|San Francisco, CA...|User|                NULL|    342|Internaut Design|           5|  David Lowenfels|2008-02-14 22:33:10|                NULL|        4|      dfl|\n",
            "|   true|          43|        false|2018-07-11 07:59:09|311|http://www.lypano...|        6|Voorburg, Netherl...|User|                NULL|      5|            NULL|          18|Alexander Kellett|2008-02-16 14:37:39|                NULL|        0|  lypanov|\n",
            "|   true|          32|        false|2018-05-08 09:44:32|398|            matta.io|       31|           Australia|User|                NULL|     83|             AWS|          11|       Matt Allen|2008-02-19 00:38:58|   matt@allen.com.au|        0|mattallen|\n",
            "|   NULL|          18|        false|2018-08-02 08:54:39|522|       profundos.org|       35|    Caxias, Portugal|User|a friendly develo...|    152|            NULL|           3|   Delfim Machado|2008-02-20 18:00:41|  dbcm@profundos.org|       26|     dbcm|\n",
            "|   NULL|         107|        false|2018-07-18 19:13:31|534|http://twitter.co...|      167|          London, UK|User|                NULL|    899|            NULL|          63|       Eric Allam|2008-02-20 19:33:00|   eallam@icloud.com|       24|ericallam|\n",
            "|   NULL|          31|        false|2018-06-13 18:05:59|566|  http://mod.erni.st|       29|        Portland, OR|User|Ruby, Elixir, Rea...|     44|      @goldstar |          25|       Will Clark|2008-02-21 17:02:17| bjclark@scidept.com|       12|  BJClark|\n",
            "|   NULL|           3|        false|2018-07-25 23:33:46|721|                    |        5|                NULL|User|Blah blah blahbit...|     48|            NULL|          22|           ɹɐɯsǝʎ|2008-02-24 00:45:05|    yesmar@gmail.com|        2|   yesmar|\n",
            "|   NULL|          47|        false|2018-07-01 15:31:22|835|                    |       14|Russia, Moscow re...|User|                NULL|    179|            NULL|           3| Eugene Zolotarev|2008-02-25 17:02:02|    eugzol@gmail.com|        0|   EugZol|\n",
            "+-------+------------+-------------+-------------------+---+--------------------+---------+--------------------+----+--------------------+-------+----------------+------------+-----------------+-------------------+--------------------+---------+---------+\n",
            "only showing top 10 rows\n",
            "\n"
          ]
        }
      ]
    },
    {
      "cell_type": "code",
      "source": [
        "df_read.count()"
      ],
      "metadata": {
        "colab": {
          "base_uri": "https://localhost:8080/"
        },
        "id": "EQnE7RWPET8P",
        "outputId": "88a7949a-1163-45c8-8f9f-acb059e3437b"
      },
      "execution_count": 26,
      "outputs": [
        {
          "output_type": "execute_result",
          "data": {
            "text/plain": [
              "10649574"
            ]
          },
          "metadata": {},
          "execution_count": 26
        }
      ]
    },
    {
      "cell_type": "code",
      "source": [],
      "metadata": {
        "id": "rjoUdoZTE-su"
      },
      "execution_count": null,
      "outputs": []
    }
  ]
}