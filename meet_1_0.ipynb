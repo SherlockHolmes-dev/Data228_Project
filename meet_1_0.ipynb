{
  "nbformat": 4,
  "nbformat_minor": 0,
  "metadata": {
    "colab": {
      "provenance": []
    },
    "kernelspec": {
      "name": "python3",
      "display_name": "Python 3"
    },
    "language_info": {
      "name": "python"
    }
  },
  "cells": [
    {
      "cell_type": "code",
      "execution_count": 1,
      "metadata": {
        "colab": {
          "base_uri": "https://localhost:8080/"
        },
        "collapsed": true,
        "id": "96Pf3doITfOK",
        "outputId": "3d25d129-6ad6-4b17-9a97-bfd7b8421752"
      },
      "outputs": [
        {
          "output_type": "stream",
          "name": "stdout",
          "text": [
            "Requirement already satisfied: pyspark in /usr/local/lib/python3.11/dist-packages (3.5.1)\n",
            "Requirement already satisfied: py4j==0.10.9.7 in /usr/local/lib/python3.11/dist-packages (from pyspark) (0.10.9.7)\n",
            "Collecting python-dotenv\n",
            "  Downloading python_dotenv-1.1.0-py3-none-any.whl.metadata (24 kB)\n",
            "Downloading python_dotenv-1.1.0-py3-none-any.whl (20 kB)\n",
            "Installing collected packages: python-dotenv\n",
            "Successfully installed python-dotenv-1.1.0\n"
          ]
        }
      ],
      "source": [
        "\n",
        "# Install necessary libraries\n",
        "!pip install pyspark\n",
        "!pip install python-dotenv"
      ]
    },
    {
      "cell_type": "code",
      "source": [
        "\n",
        "# Import necessary libraries\n",
        "from pyspark.sql import SparkSession\n",
        "from dotenv import load_dotenv\n",
        "import os\n",
        "from pyspark.sql.functions import explode, col, to_timestamp, substring\n",
        "from pyspark.sql.types import StructType, StructField, StringType, LongType, BooleanType, ArrayType"
      ],
      "metadata": {
        "id": "802k2GyQTmH8"
      },
      "execution_count": 18,
      "outputs": []
    },
    {
      "cell_type": "code",
      "source": [
        "\n",
        "# Load environment variables for Azure access information\n",
        "load_dotenv(\"/content/azure_connection.env\")\n",
        "\n",
        "storage_account_name = os.getenv(\"AZURE_ACCOUNT_NAME\")\n",
        "storage_account_key = os.getenv(\"AZURE_STORAGE_KEY\")\n",
        "storage_container_name = \"kaggle-datasets\"\n",
        "parquet_blob_name = \"github-dataset-full.parquet\""
      ],
      "metadata": {
        "id": "X-tWMYsPTpEO"
      },
      "execution_count": 3,
      "outputs": []
    },
    {
      "cell_type": "code",
      "source": [
        "\n",
        "# Creating Spark session\n",
        "spark = SparkSession.builder \\\n",
        "    .appName(\"Read Parquet from Azure Blob Storage\") \\\n",
        "    .config(f\"spark.hadoop.fs.azure.account.key.{storage_account_name}.blob.core.windows.net\", storage_account_key) \\\n",
        "    .config(\"spark.jars.packages\", \"org.apache.hadoop:hadoop-azure:3.3.2,com.microsoft.azure:azure-storage:8.6.6\") \\\n",
        "    .config(\"spark.driver.memory\", \"8g\") \\\n",
        "    .getOrCreate()\n",
        "\n",
        "# Remove garbage error texts\n",
        "spark.sparkContext.setLogLevel(\"ERROR\")"
      ],
      "metadata": {
        "id": "-tdX9MNNTrHs"
      },
      "execution_count": 4,
      "outputs": []
    },
    {
      "cell_type": "code",
      "source": [
        "# Set authentification for Spark to connect to Azure\n",
        "spark.conf.set(\n",
        "    f\"fs.azure.account.key.{storage_account_name}.blob.core.windows.net\",\n",
        "    storage_account_key\n",
        ")\n"
      ],
      "metadata": {
        "id": "-85WnfMSTtO4"
      },
      "execution_count": 5,
      "outputs": []
    },
    {
      "cell_type": "code",
      "source": [
        "# Read data to ensure data was properly saved\n",
        "repo_list_df = spark.read.parquet(\n",
        "    \"wasbs://kaggle-datasets@matthewleffler1.blob.core.windows.net/clean_data/repo_list_data\"\n",
        ")"
      ],
      "metadata": {
        "id": "tXzP56MGTvp1"
      },
      "execution_count": 6,
      "outputs": []
    },
    {
      "cell_type": "code",
      "source": [
        "\n",
        "# Ensure data was saved\n",
        "repo_list_df.show(10, truncate=False)"
      ],
      "metadata": {
        "colab": {
          "base_uri": "https://localhost:8080/"
        },
        "id": "cYQvcZzGT48m",
        "outputId": "06d7f92f-b2eb-465a-d9e8-c47dad3c9e8b"
      },
      "execution_count": 7,
      "outputs": [
        {
          "output_type": "stream",
          "name": "stdout",
          "text": [
            "+-------+----------+-------------------+-------------------+-----------------------------------------------------------------------------------------+---------+----------------+---------------------------------------+-------------+--------+-------------+---------------------------------------+----------------+-------------+-------------------+---------+---------------------+-------------------+\n",
            "|user_id|user_login|repo_created_at    |repo_default_branch|repo_description                                                                         |repo_fork|repo_forks_count|repo_full_name                         |repo_has_wiki|repo_id |repo_language|repo_license                           |repo_open_issues|repo_owner_id|repo_pushed_at     |repo_size|repo_stargazers_count|repo_updated_at    |\n",
            "+-------+----------+-------------------+-------------------+-----------------------------------------------------------------------------------------+---------+----------------+---------------------------------------+-------------+--------+-------------+---------------------------------------+----------------+-------------+-------------------+---------+---------------------+-------------------+\n",
            "|323831 |cynial    |2014-10-14 13:16:37|master             |Ace (Ajax.org Cloud9 Editor)                                                             |true     |0               |cynial/ace                             |true         |25192765|NULL         |Other                                  |0               |323831       |2014-10-11 22:42:18|30609    |0                    |2014-10-14 13:15:17|\n",
            "|323831 |cynial    |2012-10-16 14:26:47|master             |A jQuery Slider plugin for anything.                                                     |true     |0               |cynial/AnythingSlider                  |true         |6240492 |JavaScript   |GNU Lesser General Public License v3.0 |0               |323831       |2012-08-28 01:08:37|2422     |0                    |2013-01-13 00:51:11|\n",
            "|323831 |cynial    |2015-06-10 08:13:49|master             |A web interface for docker.  http://docker.io                                            |true     |0               |cynial/dockerui                        |true         |37167865|JavaScript   |Other                                  |0               |323831       |2015-06-05 22:23:33|16539    |0                    |2016-04-20 05:11:35|\n",
            "|323831 |cynial    |2015-06-24 10:16:11|master             |A structured logger for Fluentd (Java)                                                   |true     |0               |cynial/fluent-logger-java              |true         |37959473|Java         |Apache License 2.0                     |0               |323831       |2015-06-21 19:33:59|650      |0                    |2015-06-24 10:16:12|\n",
            "|323831 |cynial    |2013-04-11 23:04:18|master             |jQuery and Wordpress plugins for infinite scroll                                         |true     |0               |cynial/infinite-scroll                 |true         |9374439 |JavaScript   |NULL                                   |0               |323831       |2013-03-23 03:19:26|4439     |0                    |2015-02-20 11:14:06|\n",
            "|323831 |cynial    |2012-11-02 09:34:05|master             |jQuery ScrollTo - Smooth Scrolling to any jQuery/DOM Element                             |true     |0               |cynial/jquery-scrollto                 |true         |6500382 |JavaScript   |MIT License                            |0               |323831       |2012-10-21 11:14:18|255      |0                    |2014-02-25 07:22:49|\n",
            "|323831 |cynial    |2013-04-14 20:33:30|master             |Laravel 4 Starter Site is a basic blog application using several nice community packages.|true     |0               |cynial/Laravel-4-Bootstrap-Starter-Site|true         |9429412 |JavaScript   |NULL                                   |0               |323831       |2013-04-11 07:34:45|610      |0                    |2014-04-12 23:37:47|\n",
            "|323831 |cynial    |2013-03-17 16:10:05|master             |NULL                                                                                     |true     |0               |cynial/laravel-tutorial                |true         |8832168 |PHP          |Other                                  |0               |323831       |2012-10-15 22:59:43|842      |0                    |2013-03-17 16:10:05|\n",
            "|323831 |cynial    |2014-09-01 08:40:33|master             |Lithium is a light, fast, and highly configurable framework for PHP 5.3+.                |true     |0               |cynial/lithium                         |true         |23527330|NULL         |BSD 3-Clause \"New\" or \"Revised\" License|0               |323831       |2014-08-31 01:10:08|16750    |0                    |2014-09-01 08:37:03|\n",
            "|323831 |cynial    |2016-04-14 18:00:51|master             |A minimalistic adapter for github.com/gliderlabs/logspout to write to Logstash TCP       |false    |0               |cynial/logspout-logstash               |true         |56230319|Go           |NULL                                   |0               |323831       |2016-04-15 08:46:33|2        |0                    |2016-04-14 18:09:17|\n",
            "+-------+----------+-------------------+-------------------+-----------------------------------------------------------------------------------------+---------+----------------+---------------------------------------+-------------+--------+-------------+---------------------------------------+----------------+-------------+-------------------+---------+---------------------+-------------------+\n",
            "only showing top 10 rows\n",
            "\n"
          ]
        }
      ]
    },
    {
      "cell_type": "code",
      "source": [
        "\n",
        "# Read data to ensure data was properly saved\n",
        "following_list_df = spark.read.parquet(\n",
        "    \"wasbs://kaggle-datasets@matthewleffler1.blob.core.windows.net/clean_data/following_list_data\"\n",
        ")\n"
      ],
      "metadata": {
        "id": "-1wXcJzVUYDf"
      },
      "execution_count": 8,
      "outputs": []
    },
    {
      "cell_type": "code",
      "source": [
        "\n",
        "# Ensure data was saved\n",
        "following_list_df.show(10, truncate=False)"
      ],
      "metadata": {
        "colab": {
          "base_uri": "https://localhost:8080/"
        },
        "id": "hVnPL5GoU2NY",
        "outputId": "001ad4db-5247-405a-96d0-8f1a097d274d"
      },
      "execution_count": 9,
      "outputs": [
        {
          "output_type": "stream",
          "name": "stdout",
          "text": [
            "+--------+---------------+------------+\n",
            "|user_id |user_login     |following_id|\n",
            "+--------+---------------+------------+\n",
            "|3103473 |ashubhadani    |401908      |\n",
            "|16760183|jandersonaraujo|16691304    |\n",
            "|167845  |joelennon      |46539       |\n",
            "|167845  |joelennon      |643307      |\n",
            "|167845  |joelennon      |1073533     |\n",
            "|167845  |joelennon      |2650468     |\n",
            "|167845  |joelennon      |2650485     |\n",
            "|167845  |joelennon      |2656153     |\n",
            "|167845  |joelennon      |2656266     |\n",
            "|167845  |joelennon      |2789596     |\n",
            "+--------+---------------+------------+\n",
            "only showing top 10 rows\n",
            "\n"
          ]
        }
      ]
    },
    {
      "cell_type": "code",
      "source": [
        "\n",
        "# Read data to ensure data was properly saved\n",
        "follower_list_df = spark.read.parquet(\n",
        "    \"wasbs://kaggle-datasets@matthewleffler1.blob.core.windows.net/clean_data/follower_list_data\"\n",
        ")"
      ],
      "metadata": {
        "id": "XZl_cvOvU7SF"
      },
      "execution_count": 10,
      "outputs": []
    },
    {
      "cell_type": "code",
      "source": [
        "# Ensure data was saved\n",
        "follower_list_df.show(10, truncate=False)"
      ],
      "metadata": {
        "colab": {
          "base_uri": "https://localhost:8080/"
        },
        "id": "_-qrMh0XU7QS",
        "outputId": "24d48fe3-c172-4364-9c80-f6fe47af7e9a"
      },
      "execution_count": 11,
      "outputs": [
        {
          "output_type": "stream",
          "name": "stdout",
          "text": [
            "+--------+---------------+--------------+\n",
            "|user_id |user_login     |follower_login|\n",
            "+--------+---------------+--------------+\n",
            "|15133929|blackstonep    |15222051      |\n",
            "|15133929|blackstonep    |17273091      |\n",
            "|15133929|blackstonep    |9455290       |\n",
            "|15133929|blackstonep    |6808931       |\n",
            "|6819477 |smartraysam    |25648077      |\n",
            "|11713529|avielmenter    |15976384      |\n",
            "|11713529|avielmenter    |28541828      |\n",
            "|16760183|jandersonaraujo|1280437       |\n",
            "|16760183|jandersonaraujo|26728605      |\n",
            "|167845  |joelennon      |643307        |\n",
            "+--------+---------------+--------------+\n",
            "only showing top 10 rows\n",
            "\n"
          ]
        }
      ]
    },
    {
      "cell_type": "code",
      "source": [
        "\n",
        "# Read data to ensure data was properly saved\n",
        "commit_list_df = spark.read.parquet(\n",
        "    \"wasbs://kaggle-datasets@matthewleffler1.blob.core.windows.net/clean_data/commit_list_data\"\n",
        ")"
      ],
      "metadata": {
        "id": "M2D2GemCU7OM"
      },
      "execution_count": 12,
      "outputs": []
    },
    {
      "cell_type": "code",
      "source": [
        "\n",
        "# Ensure data was saved\n",
        "repo_list_df.show(10, truncate=False)"
      ],
      "metadata": {
        "colab": {
          "base_uri": "https://localhost:8080/"
        },
        "id": "Qoom29_0U7MI",
        "outputId": "5590da70-9e6e-4c47-843c-faf9a8f74a91"
      },
      "execution_count": 13,
      "outputs": [
        {
          "output_type": "stream",
          "name": "stdout",
          "text": [
            "+-------+----------+-------------------+-------------------+-----------------------------------------------------------------------------------------+---------+----------------+---------------------------------------+-------------+--------+-------------+---------------------------------------+----------------+-------------+-------------------+---------+---------------------+-------------------+\n",
            "|user_id|user_login|repo_created_at    |repo_default_branch|repo_description                                                                         |repo_fork|repo_forks_count|repo_full_name                         |repo_has_wiki|repo_id |repo_language|repo_license                           |repo_open_issues|repo_owner_id|repo_pushed_at     |repo_size|repo_stargazers_count|repo_updated_at    |\n",
            "+-------+----------+-------------------+-------------------+-----------------------------------------------------------------------------------------+---------+----------------+---------------------------------------+-------------+--------+-------------+---------------------------------------+----------------+-------------+-------------------+---------+---------------------+-------------------+\n",
            "|323831 |cynial    |2014-10-14 13:16:37|master             |Ace (Ajax.org Cloud9 Editor)                                                             |true     |0               |cynial/ace                             |true         |25192765|NULL         |Other                                  |0               |323831       |2014-10-11 22:42:18|30609    |0                    |2014-10-14 13:15:17|\n",
            "|323831 |cynial    |2012-10-16 14:26:47|master             |A jQuery Slider plugin for anything.                                                     |true     |0               |cynial/AnythingSlider                  |true         |6240492 |JavaScript   |GNU Lesser General Public License v3.0 |0               |323831       |2012-08-28 01:08:37|2422     |0                    |2013-01-13 00:51:11|\n",
            "|323831 |cynial    |2015-06-10 08:13:49|master             |A web interface for docker.  http://docker.io                                            |true     |0               |cynial/dockerui                        |true         |37167865|JavaScript   |Other                                  |0               |323831       |2015-06-05 22:23:33|16539    |0                    |2016-04-20 05:11:35|\n",
            "|323831 |cynial    |2015-06-24 10:16:11|master             |A structured logger for Fluentd (Java)                                                   |true     |0               |cynial/fluent-logger-java              |true         |37959473|Java         |Apache License 2.0                     |0               |323831       |2015-06-21 19:33:59|650      |0                    |2015-06-24 10:16:12|\n",
            "|323831 |cynial    |2013-04-11 23:04:18|master             |jQuery and Wordpress plugins for infinite scroll                                         |true     |0               |cynial/infinite-scroll                 |true         |9374439 |JavaScript   |NULL                                   |0               |323831       |2013-03-23 03:19:26|4439     |0                    |2015-02-20 11:14:06|\n",
            "|323831 |cynial    |2012-11-02 09:34:05|master             |jQuery ScrollTo - Smooth Scrolling to any jQuery/DOM Element                             |true     |0               |cynial/jquery-scrollto                 |true         |6500382 |JavaScript   |MIT License                            |0               |323831       |2012-10-21 11:14:18|255      |0                    |2014-02-25 07:22:49|\n",
            "|323831 |cynial    |2013-04-14 20:33:30|master             |Laravel 4 Starter Site is a basic blog application using several nice community packages.|true     |0               |cynial/Laravel-4-Bootstrap-Starter-Site|true         |9429412 |JavaScript   |NULL                                   |0               |323831       |2013-04-11 07:34:45|610      |0                    |2014-04-12 23:37:47|\n",
            "|323831 |cynial    |2013-03-17 16:10:05|master             |NULL                                                                                     |true     |0               |cynial/laravel-tutorial                |true         |8832168 |PHP          |Other                                  |0               |323831       |2012-10-15 22:59:43|842      |0                    |2013-03-17 16:10:05|\n",
            "|323831 |cynial    |2014-09-01 08:40:33|master             |Lithium is a light, fast, and highly configurable framework for PHP 5.3+.                |true     |0               |cynial/lithium                         |true         |23527330|NULL         |BSD 3-Clause \"New\" or \"Revised\" License|0               |323831       |2014-08-31 01:10:08|16750    |0                    |2014-09-01 08:37:03|\n",
            "|323831 |cynial    |2016-04-14 18:00:51|master             |A minimalistic adapter for github.com/gliderlabs/logspout to write to Logstash TCP       |false    |0               |cynial/logspout-logstash               |true         |56230319|Go           |NULL                                   |0               |323831       |2016-04-15 08:46:33|2        |0                    |2016-04-14 18:09:17|\n",
            "+-------+----------+-------------------+-------------------+-----------------------------------------------------------------------------------------+---------+----------------+---------------------------------------+-------------+--------+-------------+---------------------------------------+----------------+-------------+-------------------+---------+---------------------+-------------------+\n",
            "only showing top 10 rows\n",
            "\n"
          ]
        }
      ]
    },
    {
      "cell_type": "code",
      "source": [
        "\n",
        "# Read data to ensure data was properly saved\n",
        "non_list_df = spark.read.parquet(\n",
        "    \"wasbs://kaggle-datasets@matthewleffler1.blob.core.windows.net/clean_data/non_list_data\"\n",
        ")"
      ],
      "metadata": {
        "id": "35F4zl7LU7Bt"
      },
      "execution_count": 14,
      "outputs": []
    },
    {
      "cell_type": "code",
      "source": [
        "\n",
        "# Ensure data was saved\n",
        "repo_list_df.show(10, truncate=False)"
      ],
      "metadata": {
        "colab": {
          "base_uri": "https://localhost:8080/"
        },
        "id": "k0Yi5rq0U6_6",
        "outputId": "bd0f8045-436e-45cb-ee7a-21f40bff1fb7"
      },
      "execution_count": 15,
      "outputs": [
        {
          "output_type": "stream",
          "name": "stdout",
          "text": [
            "+-------+----------+-------------------+-------------------+-----------------------------------------------------------------------------------------+---------+----------------+---------------------------------------+-------------+--------+-------------+---------------------------------------+----------------+-------------+-------------------+---------+---------------------+-------------------+\n",
            "|user_id|user_login|repo_created_at    |repo_default_branch|repo_description                                                                         |repo_fork|repo_forks_count|repo_full_name                         |repo_has_wiki|repo_id |repo_language|repo_license                           |repo_open_issues|repo_owner_id|repo_pushed_at     |repo_size|repo_stargazers_count|repo_updated_at    |\n",
            "+-------+----------+-------------------+-------------------+-----------------------------------------------------------------------------------------+---------+----------------+---------------------------------------+-------------+--------+-------------+---------------------------------------+----------------+-------------+-------------------+---------+---------------------+-------------------+\n",
            "|323831 |cynial    |2014-10-14 13:16:37|master             |Ace (Ajax.org Cloud9 Editor)                                                             |true     |0               |cynial/ace                             |true         |25192765|NULL         |Other                                  |0               |323831       |2014-10-11 22:42:18|30609    |0                    |2014-10-14 13:15:17|\n",
            "|323831 |cynial    |2012-10-16 14:26:47|master             |A jQuery Slider plugin for anything.                                                     |true     |0               |cynial/AnythingSlider                  |true         |6240492 |JavaScript   |GNU Lesser General Public License v3.0 |0               |323831       |2012-08-28 01:08:37|2422     |0                    |2013-01-13 00:51:11|\n",
            "|323831 |cynial    |2015-06-10 08:13:49|master             |A web interface for docker.  http://docker.io                                            |true     |0               |cynial/dockerui                        |true         |37167865|JavaScript   |Other                                  |0               |323831       |2015-06-05 22:23:33|16539    |0                    |2016-04-20 05:11:35|\n",
            "|323831 |cynial    |2015-06-24 10:16:11|master             |A structured logger for Fluentd (Java)                                                   |true     |0               |cynial/fluent-logger-java              |true         |37959473|Java         |Apache License 2.0                     |0               |323831       |2015-06-21 19:33:59|650      |0                    |2015-06-24 10:16:12|\n",
            "|323831 |cynial    |2013-04-11 23:04:18|master             |jQuery and Wordpress plugins for infinite scroll                                         |true     |0               |cynial/infinite-scroll                 |true         |9374439 |JavaScript   |NULL                                   |0               |323831       |2013-03-23 03:19:26|4439     |0                    |2015-02-20 11:14:06|\n",
            "|323831 |cynial    |2012-11-02 09:34:05|master             |jQuery ScrollTo - Smooth Scrolling to any jQuery/DOM Element                             |true     |0               |cynial/jquery-scrollto                 |true         |6500382 |JavaScript   |MIT License                            |0               |323831       |2012-10-21 11:14:18|255      |0                    |2014-02-25 07:22:49|\n",
            "|323831 |cynial    |2013-04-14 20:33:30|master             |Laravel 4 Starter Site is a basic blog application using several nice community packages.|true     |0               |cynial/Laravel-4-Bootstrap-Starter-Site|true         |9429412 |JavaScript   |NULL                                   |0               |323831       |2013-04-11 07:34:45|610      |0                    |2014-04-12 23:37:47|\n",
            "|323831 |cynial    |2013-03-17 16:10:05|master             |NULL                                                                                     |true     |0               |cynial/laravel-tutorial                |true         |8832168 |PHP          |Other                                  |0               |323831       |2012-10-15 22:59:43|842      |0                    |2013-03-17 16:10:05|\n",
            "|323831 |cynial    |2014-09-01 08:40:33|master             |Lithium is a light, fast, and highly configurable framework for PHP 5.3+.                |true     |0               |cynial/lithium                         |true         |23527330|NULL         |BSD 3-Clause \"New\" or \"Revised\" License|0               |323831       |2014-08-31 01:10:08|16750    |0                    |2014-09-01 08:37:03|\n",
            "|323831 |cynial    |2016-04-14 18:00:51|master             |A minimalistic adapter for github.com/gliderlabs/logspout to write to Logstash TCP       |false    |0               |cynial/logspout-logstash               |true         |56230319|Go           |NULL                                   |0               |323831       |2016-04-15 08:46:33|2        |0                    |2016-04-14 18:09:17|\n",
            "+-------+----------+-------------------+-------------------+-----------------------------------------------------------------------------------------+---------+----------------+---------------------------------------+-------------+--------+-------------+---------------------------------------+----------------+-------------+-------------------+---------+---------------------+-------------------+\n",
            "only showing top 10 rows\n",
            "\n"
          ]
        }
      ]
    },
    {
      "cell_type": "markdown",
      "source": [
        "✅ Query 1: Most Active Repositories by Commit Volume\n",
        "\n",
        "Goal: Identify which repositories have the most commits — great for finding high-activity projects.\n",
        "\n",
        "🔧 SQL Query (based on commit_list_df):"
      ],
      "metadata": {
        "id": "uWuzrcWMpTGA"
      }
    },
    {
      "cell_type": "code",
      "source": [
        "\n",
        "# Register as SQL view\n",
        "commit_list_df.createOrReplaceTempView(\"commits\")\n",
        "\n",
        "# Run SQL query\n",
        "active_repos_df = spark.sql(\"\"\"\n",
        "    SELECT\n",
        "        repo_name,\n",
        "        COUNT(*) AS total_commits\n",
        "    FROM commits\n",
        "    GROUP BY repo_name\n",
        "    ORDER BY total_commits DESC\n",
        "    LIMIT 50\n",
        "\"\"\")\n",
        "\n",
        "# Save to new Parquet file\n",
        "active_repos_df.write.mode(\"overwrite\").parquet(\n",
        "    \"wasbs://kaggle-datasets@matthewleffler1.blob.core.windows.net/analytics/most_active_repos\"\n",
        ")\n"
      ],
      "metadata": {
        "id": "vtv8E4eFkX2Y"
      },
      "execution_count": 20,
      "outputs": []
    },
    {
      "cell_type": "markdown",
      "source": [
        " ✅ Query 2: Average Followers per Developer\n",
        "\n",
        " Goal: Measure developer reach/influence based on how many followers they have.\n",
        "\n",
        " 🔧 SQL Query (based on follower_list_df):\n"
      ],
      "metadata": {
        "id": "xxzfuPXypj3F"
      }
    },
    {
      "cell_type": "code",
      "source": [
        "\n",
        "# Register as temp view\n",
        "follower_list_df.createOrReplaceTempView(\"followers\")\n",
        "\n",
        "# Corrected SQL Query\n",
        "influence_df = spark.sql(\"\"\"\n",
        "    SELECT\n",
        "        user_login AS developer,\n",
        "        COUNT(follower_login) AS follower_count\n",
        "    FROM followers\n",
        "    GROUP BY user_login\n",
        "    ORDER BY follower_count DESC\n",
        "    LIMIT 50\n",
        "\"\"\")\n",
        "\n",
        "# Save to Parquet\n",
        "influence_df.write.mode(\"overwrite\").parquet(\n",
        "    \"wasbs://kaggle-datasets@matthewleffler1.blob.core.windows.net/analytics/top_influential_developers\"\n",
        ")\n"
      ],
      "metadata": {
        "id": "zVegvzN0k-lR"
      },
      "execution_count": 23,
      "outputs": []
    }
  ]
}